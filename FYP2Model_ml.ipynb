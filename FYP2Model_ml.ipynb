{
  "cells": [
    {
      "cell_type": "code",
      "execution_count": null,
      "metadata": {
        "colab": {
          "base_uri": "https://localhost:8080/"
        },
        "id": "3U7Pn3EYiFqC",
        "outputId": "5edcded5-2053-4522-c9f4-691a776f323b"
      },
      "outputs": [
        {
          "name": "stdout",
          "output_type": "stream",
          "text": [
            "[nltk_data] Downloading package stopwords to /root/nltk_data...\n",
            "[nltk_data]   Unzipping corpora/stopwords.zip.\n",
            "[nltk_data] Downloading package punkt to /root/nltk_data...\n",
            "[nltk_data]   Unzipping tokenizers/punkt.zip.\n"
          ]
        },
        {
          "data": {
            "text/plain": [
              "True"
            ]
          },
          "execution_count": 1,
          "metadata": {},
          "output_type": "execute_result"
        }
      ],
      "source": [
        "import numpy as np\n",
        "import re\n",
        "import pickle\n",
        "import nltk as tk\n",
        "import pandas as pd \n",
        "import matplotlib.pyplot as plt\n",
        "import seaborn as sns\n",
        "\n",
        "from nltk.corpus import stopwords\n",
        "from sklearn.datasets import load_files\n",
        "from sklearn.preprocessing import StandardScaler\n",
        "from nltk.stem.porter import PorterStemmer\n",
        "from collections import Counter\n",
        "from sklearn import preprocessing\n",
        "from nltk.corpus import stopwords \n",
        "from sklearn.feature_extraction.text import CountVectorizer\n",
        "from sklearn.model_selection import train_test_split\n",
        "from sklearn.linear_model import LogisticRegression\n",
        "from sklearn.tree import DecisionTreeClassifier\n",
        "from sklearn.ensemble import RandomForestClassifier\n",
        "from sklearn.naive_bayes import MultinomialNB\n",
        "from sklearn.model_selection import train_test_split\n",
        "from sklearn.metrics import classification_report, confusion_matrix\n",
        "from sklearn.utils.multiclass import unique_labels\n",
        "\n",
        "tk.download('stopwords')\n",
        "tk.download('punkt')\n"
      ]
    },
    {
      "cell_type": "code",
      "execution_count": null,
      "metadata": {
        "colab": {
          "base_uri": "https://localhost:8080/"
        },
        "id": "SryOpNLjiG6e",
        "outputId": "f1ac998c-d661-45a8-f82a-3849d5aecb69"
      },
      "outputs": [
        {
          "name": "stdout",
          "output_type": "stream",
          "text": [
            "Mounted at /content/drive\n"
          ]
        }
      ],
      "source": [
        "from google.colab import drive\n",
        "drive.mount('/content/drive')"
      ]
    },
    {
      "cell_type": "code",
      "execution_count": null,
      "metadata": {
        "id": "G5UOfFEEiG-9"
      },
      "outputs": [],
      "source": [
        "suicide_dt = pd.read_csv(r'/content/drive/MyDrive/Suicide_Detection.csv')"
      ]
    },
    {
      "cell_type": "code",
      "execution_count": null,
      "metadata": {
        "colab": {
          "base_uri": "https://localhost:8080/",
          "height": 423
        },
        "id": "hf16u2PFiHBk",
        "outputId": "00a1aef4-0680-40de-ad54-be5cfcc97a8b"
      },
      "outputs": [
        {
          "data": {
            "text/html": [
              "\n",
              "  <div id=\"df-b0bf3d39-7b8e-4c1a-8c41-89fec4732a9f\">\n",
              "    <div class=\"colab-df-container\">\n",
              "      <div>\n",
              "<style scoped>\n",
              "    .dataframe tbody tr th:only-of-type {\n",
              "        vertical-align: middle;\n",
              "    }\n",
              "\n",
              "    .dataframe tbody tr th {\n",
              "        vertical-align: top;\n",
              "    }\n",
              "\n",
              "    .dataframe thead th {\n",
              "        text-align: right;\n",
              "    }\n",
              "</style>\n",
              "<table border=\"1\" class=\"dataframe\">\n",
              "  <thead>\n",
              "    <tr style=\"text-align: right;\">\n",
              "      <th></th>\n",
              "      <th>Unnamed: 0</th>\n",
              "      <th>text</th>\n",
              "      <th>class</th>\n",
              "    </tr>\n",
              "  </thead>\n",
              "  <tbody>\n",
              "    <tr>\n",
              "      <th>0</th>\n",
              "      <td>2</td>\n",
              "      <td>Ex Wife Threatening SuicideRecently I left my ...</td>\n",
              "      <td>suicide</td>\n",
              "    </tr>\n",
              "    <tr>\n",
              "      <th>1</th>\n",
              "      <td>3</td>\n",
              "      <td>Am I weird I don't get affected by compliments...</td>\n",
              "      <td>non-suicide</td>\n",
              "    </tr>\n",
              "    <tr>\n",
              "      <th>2</th>\n",
              "      <td>4</td>\n",
              "      <td>Finally 2020 is almost over... So I can never ...</td>\n",
              "      <td>non-suicide</td>\n",
              "    </tr>\n",
              "    <tr>\n",
              "      <th>3</th>\n",
              "      <td>8</td>\n",
              "      <td>i need helpjust help me im crying so hard</td>\n",
              "      <td>suicide</td>\n",
              "    </tr>\n",
              "    <tr>\n",
              "      <th>4</th>\n",
              "      <td>9</td>\n",
              "      <td>I’m so lostHello, my name is Adam (16) and I’v...</td>\n",
              "      <td>suicide</td>\n",
              "    </tr>\n",
              "    <tr>\n",
              "      <th>...</th>\n",
              "      <td>...</td>\n",
              "      <td>...</td>\n",
              "      <td>...</td>\n",
              "    </tr>\n",
              "    <tr>\n",
              "      <th>232069</th>\n",
              "      <td>348103</td>\n",
              "      <td>If you don't like rock then your not going to ...</td>\n",
              "      <td>non-suicide</td>\n",
              "    </tr>\n",
              "    <tr>\n",
              "      <th>232070</th>\n",
              "      <td>348106</td>\n",
              "      <td>You how you can tell i have so many friends an...</td>\n",
              "      <td>non-suicide</td>\n",
              "    </tr>\n",
              "    <tr>\n",
              "      <th>232071</th>\n",
              "      <td>348107</td>\n",
              "      <td>pee probably tastes like salty tea😏💦‼️ can som...</td>\n",
              "      <td>non-suicide</td>\n",
              "    </tr>\n",
              "    <tr>\n",
              "      <th>232072</th>\n",
              "      <td>348108</td>\n",
              "      <td>The usual stuff you find hereI'm not posting t...</td>\n",
              "      <td>suicide</td>\n",
              "    </tr>\n",
              "    <tr>\n",
              "      <th>232073</th>\n",
              "      <td>348110</td>\n",
              "      <td>I still haven't beaten the first boss in Hollo...</td>\n",
              "      <td>non-suicide</td>\n",
              "    </tr>\n",
              "  </tbody>\n",
              "</table>\n",
              "<p>232074 rows × 3 columns</p>\n",
              "</div>\n",
              "      <button class=\"colab-df-convert\" onclick=\"convertToInteractive('df-b0bf3d39-7b8e-4c1a-8c41-89fec4732a9f')\"\n",
              "              title=\"Convert this dataframe to an interactive table.\"\n",
              "              style=\"display:none;\">\n",
              "        \n",
              "  <svg xmlns=\"http://www.w3.org/2000/svg\" height=\"24px\"viewBox=\"0 0 24 24\"\n",
              "       width=\"24px\">\n",
              "    <path d=\"M0 0h24v24H0V0z\" fill=\"none\"/>\n",
              "    <path d=\"M18.56 5.44l.94 2.06.94-2.06 2.06-.94-2.06-.94-.94-2.06-.94 2.06-2.06.94zm-11 1L8.5 8.5l.94-2.06 2.06-.94-2.06-.94L8.5 2.5l-.94 2.06-2.06.94zm10 10l.94 2.06.94-2.06 2.06-.94-2.06-.94-.94-2.06-.94 2.06-2.06.94z\"/><path d=\"M17.41 7.96l-1.37-1.37c-.4-.4-.92-.59-1.43-.59-.52 0-1.04.2-1.43.59L10.3 9.45l-7.72 7.72c-.78.78-.78 2.05 0 2.83L4 21.41c.39.39.9.59 1.41.59.51 0 1.02-.2 1.41-.59l7.78-7.78 2.81-2.81c.8-.78.8-2.07 0-2.86zM5.41 20L4 18.59l7.72-7.72 1.47 1.35L5.41 20z\"/>\n",
              "  </svg>\n",
              "      </button>\n",
              "      \n",
              "  <style>\n",
              "    .colab-df-container {\n",
              "      display:flex;\n",
              "      flex-wrap:wrap;\n",
              "      gap: 12px;\n",
              "    }\n",
              "\n",
              "    .colab-df-convert {\n",
              "      background-color: #E8F0FE;\n",
              "      border: none;\n",
              "      border-radius: 50%;\n",
              "      cursor: pointer;\n",
              "      display: none;\n",
              "      fill: #1967D2;\n",
              "      height: 32px;\n",
              "      padding: 0 0 0 0;\n",
              "      width: 32px;\n",
              "    }\n",
              "\n",
              "    .colab-df-convert:hover {\n",
              "      background-color: #E2EBFA;\n",
              "      box-shadow: 0px 1px 2px rgba(60, 64, 67, 0.3), 0px 1px 3px 1px rgba(60, 64, 67, 0.15);\n",
              "      fill: #174EA6;\n",
              "    }\n",
              "\n",
              "    [theme=dark] .colab-df-convert {\n",
              "      background-color: #3B4455;\n",
              "      fill: #D2E3FC;\n",
              "    }\n",
              "\n",
              "    [theme=dark] .colab-df-convert:hover {\n",
              "      background-color: #434B5C;\n",
              "      box-shadow: 0px 1px 3px 1px rgba(0, 0, 0, 0.15);\n",
              "      filter: drop-shadow(0px 1px 2px rgba(0, 0, 0, 0.3));\n",
              "      fill: #FFFFFF;\n",
              "    }\n",
              "  </style>\n",
              "\n",
              "      <script>\n",
              "        const buttonEl =\n",
              "          document.querySelector('#df-b0bf3d39-7b8e-4c1a-8c41-89fec4732a9f button.colab-df-convert');\n",
              "        buttonEl.style.display =\n",
              "          google.colab.kernel.accessAllowed ? 'block' : 'none';\n",
              "\n",
              "        async function convertToInteractive(key) {\n",
              "          const element = document.querySelector('#df-b0bf3d39-7b8e-4c1a-8c41-89fec4732a9f');\n",
              "          const dataTable =\n",
              "            await google.colab.kernel.invokeFunction('convertToInteractive',\n",
              "                                                     [key], {});\n",
              "          if (!dataTable) return;\n",
              "\n",
              "          const docLinkHtml = 'Like what you see? Visit the ' +\n",
              "            '<a target=\"_blank\" href=https://colab.research.google.com/notebooks/data_table.ipynb>data table notebook</a>'\n",
              "            + ' to learn more about interactive tables.';\n",
              "          element.innerHTML = '';\n",
              "          dataTable['output_type'] = 'display_data';\n",
              "          await google.colab.output.renderOutput(dataTable, element);\n",
              "          const docLink = document.createElement('div');\n",
              "          docLink.innerHTML = docLinkHtml;\n",
              "          element.appendChild(docLink);\n",
              "        }\n",
              "      </script>\n",
              "    </div>\n",
              "  </div>\n",
              "  "
            ],
            "text/plain": [
              "        Unnamed: 0  ...        class\n",
              "0                2  ...      suicide\n",
              "1                3  ...  non-suicide\n",
              "2                4  ...  non-suicide\n",
              "3                8  ...      suicide\n",
              "4                9  ...      suicide\n",
              "...            ...  ...          ...\n",
              "232069      348103  ...  non-suicide\n",
              "232070      348106  ...  non-suicide\n",
              "232071      348107  ...  non-suicide\n",
              "232072      348108  ...      suicide\n",
              "232073      348110  ...  non-suicide\n",
              "\n",
              "[232074 rows x 3 columns]"
            ]
          },
          "execution_count": 4,
          "metadata": {},
          "output_type": "execute_result"
        }
      ],
      "source": [
        "suicide_dt"
      ]
    },
    {
      "cell_type": "code",
      "execution_count": null,
      "metadata": {
        "colab": {
          "base_uri": "https://localhost:8080/",
          "height": 423
        },
        "id": "9ivfsrx1iHDq",
        "outputId": "64d31c12-ff35-4fb3-982b-9bf414d3b461"
      },
      "outputs": [
        {
          "data": {
            "text/html": [
              "\n",
              "  <div id=\"df-cf3f9147-e741-408c-86a7-3d1932e3ace2\">\n",
              "    <div class=\"colab-df-container\">\n",
              "      <div>\n",
              "<style scoped>\n",
              "    .dataframe tbody tr th:only-of-type {\n",
              "        vertical-align: middle;\n",
              "    }\n",
              "\n",
              "    .dataframe tbody tr th {\n",
              "        vertical-align: top;\n",
              "    }\n",
              "\n",
              "    .dataframe thead th {\n",
              "        text-align: right;\n",
              "    }\n",
              "</style>\n",
              "<table border=\"1\" class=\"dataframe\">\n",
              "  <thead>\n",
              "    <tr style=\"text-align: right;\">\n",
              "      <th></th>\n",
              "      <th>Unnamed: 0</th>\n",
              "      <th>text</th>\n",
              "      <th>class</th>\n",
              "    </tr>\n",
              "  </thead>\n",
              "  <tbody>\n",
              "    <tr>\n",
              "      <th>0</th>\n",
              "      <td>2</td>\n",
              "      <td>Ex Wife Threatening SuicideRecently I left my ...</td>\n",
              "      <td>suicide</td>\n",
              "    </tr>\n",
              "    <tr>\n",
              "      <th>1</th>\n",
              "      <td>3</td>\n",
              "      <td>Am I weird I don't get affected by compliments...</td>\n",
              "      <td>non-suicide</td>\n",
              "    </tr>\n",
              "    <tr>\n",
              "      <th>2</th>\n",
              "      <td>4</td>\n",
              "      <td>Finally 2020 is almost over... So I can never ...</td>\n",
              "      <td>non-suicide</td>\n",
              "    </tr>\n",
              "    <tr>\n",
              "      <th>3</th>\n",
              "      <td>8</td>\n",
              "      <td>i need helpjust help me im crying so hard</td>\n",
              "      <td>suicide</td>\n",
              "    </tr>\n",
              "    <tr>\n",
              "      <th>4</th>\n",
              "      <td>9</td>\n",
              "      <td>I’m so lostHello, my name is Adam (16) and I’v...</td>\n",
              "      <td>suicide</td>\n",
              "    </tr>\n",
              "    <tr>\n",
              "      <th>...</th>\n",
              "      <td>...</td>\n",
              "      <td>...</td>\n",
              "      <td>...</td>\n",
              "    </tr>\n",
              "    <tr>\n",
              "      <th>232069</th>\n",
              "      <td>348103</td>\n",
              "      <td>If you don't like rock then your not going to ...</td>\n",
              "      <td>non-suicide</td>\n",
              "    </tr>\n",
              "    <tr>\n",
              "      <th>232070</th>\n",
              "      <td>348106</td>\n",
              "      <td>You how you can tell i have so many friends an...</td>\n",
              "      <td>non-suicide</td>\n",
              "    </tr>\n",
              "    <tr>\n",
              "      <th>232071</th>\n",
              "      <td>348107</td>\n",
              "      <td>pee probably tastes like salty tea😏💦‼️ can som...</td>\n",
              "      <td>non-suicide</td>\n",
              "    </tr>\n",
              "    <tr>\n",
              "      <th>232072</th>\n",
              "      <td>348108</td>\n",
              "      <td>The usual stuff you find hereI'm not posting t...</td>\n",
              "      <td>suicide</td>\n",
              "    </tr>\n",
              "    <tr>\n",
              "      <th>232073</th>\n",
              "      <td>348110</td>\n",
              "      <td>I still haven't beaten the first boss in Hollo...</td>\n",
              "      <td>non-suicide</td>\n",
              "    </tr>\n",
              "  </tbody>\n",
              "</table>\n",
              "<p>232074 rows × 3 columns</p>\n",
              "</div>\n",
              "      <button class=\"colab-df-convert\" onclick=\"convertToInteractive('df-cf3f9147-e741-408c-86a7-3d1932e3ace2')\"\n",
              "              title=\"Convert this dataframe to an interactive table.\"\n",
              "              style=\"display:none;\">\n",
              "        \n",
              "  <svg xmlns=\"http://www.w3.org/2000/svg\" height=\"24px\"viewBox=\"0 0 24 24\"\n",
              "       width=\"24px\">\n",
              "    <path d=\"M0 0h24v24H0V0z\" fill=\"none\"/>\n",
              "    <path d=\"M18.56 5.44l.94 2.06.94-2.06 2.06-.94-2.06-.94-.94-2.06-.94 2.06-2.06.94zm-11 1L8.5 8.5l.94-2.06 2.06-.94-2.06-.94L8.5 2.5l-.94 2.06-2.06.94zm10 10l.94 2.06.94-2.06 2.06-.94-2.06-.94-.94-2.06-.94 2.06-2.06.94z\"/><path d=\"M17.41 7.96l-1.37-1.37c-.4-.4-.92-.59-1.43-.59-.52 0-1.04.2-1.43.59L10.3 9.45l-7.72 7.72c-.78.78-.78 2.05 0 2.83L4 21.41c.39.39.9.59 1.41.59.51 0 1.02-.2 1.41-.59l7.78-7.78 2.81-2.81c.8-.78.8-2.07 0-2.86zM5.41 20L4 18.59l7.72-7.72 1.47 1.35L5.41 20z\"/>\n",
              "  </svg>\n",
              "      </button>\n",
              "      \n",
              "  <style>\n",
              "    .colab-df-container {\n",
              "      display:flex;\n",
              "      flex-wrap:wrap;\n",
              "      gap: 12px;\n",
              "    }\n",
              "\n",
              "    .colab-df-convert {\n",
              "      background-color: #E8F0FE;\n",
              "      border: none;\n",
              "      border-radius: 50%;\n",
              "      cursor: pointer;\n",
              "      display: none;\n",
              "      fill: #1967D2;\n",
              "      height: 32px;\n",
              "      padding: 0 0 0 0;\n",
              "      width: 32px;\n",
              "    }\n",
              "\n",
              "    .colab-df-convert:hover {\n",
              "      background-color: #E2EBFA;\n",
              "      box-shadow: 0px 1px 2px rgba(60, 64, 67, 0.3), 0px 1px 3px 1px rgba(60, 64, 67, 0.15);\n",
              "      fill: #174EA6;\n",
              "    }\n",
              "\n",
              "    [theme=dark] .colab-df-convert {\n",
              "      background-color: #3B4455;\n",
              "      fill: #D2E3FC;\n",
              "    }\n",
              "\n",
              "    [theme=dark] .colab-df-convert:hover {\n",
              "      background-color: #434B5C;\n",
              "      box-shadow: 0px 1px 3px 1px rgba(0, 0, 0, 0.15);\n",
              "      filter: drop-shadow(0px 1px 2px rgba(0, 0, 0, 0.3));\n",
              "      fill: #FFFFFF;\n",
              "    }\n",
              "  </style>\n",
              "\n",
              "      <script>\n",
              "        const buttonEl =\n",
              "          document.querySelector('#df-cf3f9147-e741-408c-86a7-3d1932e3ace2 button.colab-df-convert');\n",
              "        buttonEl.style.display =\n",
              "          google.colab.kernel.accessAllowed ? 'block' : 'none';\n",
              "\n",
              "        async function convertToInteractive(key) {\n",
              "          const element = document.querySelector('#df-cf3f9147-e741-408c-86a7-3d1932e3ace2');\n",
              "          const dataTable =\n",
              "            await google.colab.kernel.invokeFunction('convertToInteractive',\n",
              "                                                     [key], {});\n",
              "          if (!dataTable) return;\n",
              "\n",
              "          const docLinkHtml = 'Like what you see? Visit the ' +\n",
              "            '<a target=\"_blank\" href=https://colab.research.google.com/notebooks/data_table.ipynb>data table notebook</a>'\n",
              "            + ' to learn more about interactive tables.';\n",
              "          element.innerHTML = '';\n",
              "          dataTable['output_type'] = 'display_data';\n",
              "          await google.colab.output.renderOutput(dataTable, element);\n",
              "          const docLink = document.createElement('div');\n",
              "          docLink.innerHTML = docLinkHtml;\n",
              "          element.appendChild(docLink);\n",
              "        }\n",
              "      </script>\n",
              "    </div>\n",
              "  </div>\n",
              "  "
            ],
            "text/plain": [
              "        Unnamed: 0  ...        class\n",
              "0                2  ...      suicide\n",
              "1                3  ...  non-suicide\n",
              "2                4  ...  non-suicide\n",
              "3                8  ...      suicide\n",
              "4                9  ...      suicide\n",
              "...            ...  ...          ...\n",
              "232069      348103  ...  non-suicide\n",
              "232070      348106  ...  non-suicide\n",
              "232071      348107  ...  non-suicide\n",
              "232072      348108  ...      suicide\n",
              "232073      348110  ...  non-suicide\n",
              "\n",
              "[232074 rows x 3 columns]"
            ]
          },
          "execution_count": 5,
          "metadata": {},
          "output_type": "execute_result"
        }
      ],
      "source": [
        "suicide_dt = suicide_dt.fillna(np.nan)\n",
        "suicide_dt"
      ]
    },
    {
      "cell_type": "markdown",
      "metadata": {
        "id": "kN3j_yExbaG_"
      },
      "source": [
        "#Exploratory Data Analysis"
      ]
    },
    {
      "cell_type": "code",
      "execution_count": null,
      "metadata": {
        "colab": {
          "base_uri": "https://localhost:8080/"
        },
        "id": "lKIjXfMJiHGb",
        "outputId": "52e1f951-89fa-4982-a361-10835388b921"
      },
      "outputs": [
        {
          "data": {
            "text/plain": [
              "(232074, 3)"
            ]
          },
          "execution_count": 6,
          "metadata": {},
          "output_type": "execute_result"
        }
      ],
      "source": [
        "suicide_dt.shape"
      ]
    },
    {
      "cell_type": "code",
      "execution_count": null,
      "metadata": {
        "colab": {
          "base_uri": "https://localhost:8080/"
        },
        "id": "fgDnhKT1iHKN",
        "outputId": "9b08b972-c55e-447b-c257-fce6a2339e46"
      },
      "outputs": [
        {
          "data": {
            "text/plain": [
              "Unnamed: 0    0\n",
              "text          0\n",
              "class         0\n",
              "dtype: int64"
            ]
          },
          "execution_count": 7,
          "metadata": {},
          "output_type": "execute_result"
        }
      ],
      "source": [
        "suicide_dt.isnull().sum()"
      ]
    },
    {
      "cell_type": "code",
      "execution_count": null,
      "metadata": {
        "colab": {
          "base_uri": "https://localhost:8080/",
          "height": 300
        },
        "id": "fKj9stOWiHMC",
        "outputId": "4ed9e941-24b1-4c0f-ddbe-b31cc71484d4"
      },
      "outputs": [
        {
          "data": {
            "text/html": [
              "\n",
              "  <div id=\"df-85576627-fc5c-49bf-8015-04a163e7bb53\">\n",
              "    <div class=\"colab-df-container\">\n",
              "      <div>\n",
              "<style scoped>\n",
              "    .dataframe tbody tr th:only-of-type {\n",
              "        vertical-align: middle;\n",
              "    }\n",
              "\n",
              "    .dataframe tbody tr th {\n",
              "        vertical-align: top;\n",
              "    }\n",
              "\n",
              "    .dataframe thead th {\n",
              "        text-align: right;\n",
              "    }\n",
              "</style>\n",
              "<table border=\"1\" class=\"dataframe\">\n",
              "  <thead>\n",
              "    <tr style=\"text-align: right;\">\n",
              "      <th></th>\n",
              "      <th>Unnamed: 0</th>\n",
              "    </tr>\n",
              "  </thead>\n",
              "  <tbody>\n",
              "    <tr>\n",
              "      <th>count</th>\n",
              "      <td>232074.000000</td>\n",
              "    </tr>\n",
              "    <tr>\n",
              "      <th>mean</th>\n",
              "      <td>174152.863518</td>\n",
              "    </tr>\n",
              "    <tr>\n",
              "      <th>std</th>\n",
              "      <td>100500.425362</td>\n",
              "    </tr>\n",
              "    <tr>\n",
              "      <th>min</th>\n",
              "      <td>2.000000</td>\n",
              "    </tr>\n",
              "    <tr>\n",
              "      <th>25%</th>\n",
              "      <td>87049.250000</td>\n",
              "    </tr>\n",
              "    <tr>\n",
              "      <th>50%</th>\n",
              "      <td>174358.500000</td>\n",
              "    </tr>\n",
              "    <tr>\n",
              "      <th>75%</th>\n",
              "      <td>261285.750000</td>\n",
              "    </tr>\n",
              "    <tr>\n",
              "      <th>max</th>\n",
              "      <td>348110.000000</td>\n",
              "    </tr>\n",
              "  </tbody>\n",
              "</table>\n",
              "</div>\n",
              "      <button class=\"colab-df-convert\" onclick=\"convertToInteractive('df-85576627-fc5c-49bf-8015-04a163e7bb53')\"\n",
              "              title=\"Convert this dataframe to an interactive table.\"\n",
              "              style=\"display:none;\">\n",
              "        \n",
              "  <svg xmlns=\"http://www.w3.org/2000/svg\" height=\"24px\"viewBox=\"0 0 24 24\"\n",
              "       width=\"24px\">\n",
              "    <path d=\"M0 0h24v24H0V0z\" fill=\"none\"/>\n",
              "    <path d=\"M18.56 5.44l.94 2.06.94-2.06 2.06-.94-2.06-.94-.94-2.06-.94 2.06-2.06.94zm-11 1L8.5 8.5l.94-2.06 2.06-.94-2.06-.94L8.5 2.5l-.94 2.06-2.06.94zm10 10l.94 2.06.94-2.06 2.06-.94-2.06-.94-.94-2.06-.94 2.06-2.06.94z\"/><path d=\"M17.41 7.96l-1.37-1.37c-.4-.4-.92-.59-1.43-.59-.52 0-1.04.2-1.43.59L10.3 9.45l-7.72 7.72c-.78.78-.78 2.05 0 2.83L4 21.41c.39.39.9.59 1.41.59.51 0 1.02-.2 1.41-.59l7.78-7.78 2.81-2.81c.8-.78.8-2.07 0-2.86zM5.41 20L4 18.59l7.72-7.72 1.47 1.35L5.41 20z\"/>\n",
              "  </svg>\n",
              "      </button>\n",
              "      \n",
              "  <style>\n",
              "    .colab-df-container {\n",
              "      display:flex;\n",
              "      flex-wrap:wrap;\n",
              "      gap: 12px;\n",
              "    }\n",
              "\n",
              "    .colab-df-convert {\n",
              "      background-color: #E8F0FE;\n",
              "      border: none;\n",
              "      border-radius: 50%;\n",
              "      cursor: pointer;\n",
              "      display: none;\n",
              "      fill: #1967D2;\n",
              "      height: 32px;\n",
              "      padding: 0 0 0 0;\n",
              "      width: 32px;\n",
              "    }\n",
              "\n",
              "    .colab-df-convert:hover {\n",
              "      background-color: #E2EBFA;\n",
              "      box-shadow: 0px 1px 2px rgba(60, 64, 67, 0.3), 0px 1px 3px 1px rgba(60, 64, 67, 0.15);\n",
              "      fill: #174EA6;\n",
              "    }\n",
              "\n",
              "    [theme=dark] .colab-df-convert {\n",
              "      background-color: #3B4455;\n",
              "      fill: #D2E3FC;\n",
              "    }\n",
              "\n",
              "    [theme=dark] .colab-df-convert:hover {\n",
              "      background-color: #434B5C;\n",
              "      box-shadow: 0px 1px 3px 1px rgba(0, 0, 0, 0.15);\n",
              "      filter: drop-shadow(0px 1px 2px rgba(0, 0, 0, 0.3));\n",
              "      fill: #FFFFFF;\n",
              "    }\n",
              "  </style>\n",
              "\n",
              "      <script>\n",
              "        const buttonEl =\n",
              "          document.querySelector('#df-85576627-fc5c-49bf-8015-04a163e7bb53 button.colab-df-convert');\n",
              "        buttonEl.style.display =\n",
              "          google.colab.kernel.accessAllowed ? 'block' : 'none';\n",
              "\n",
              "        async function convertToInteractive(key) {\n",
              "          const element = document.querySelector('#df-85576627-fc5c-49bf-8015-04a163e7bb53');\n",
              "          const dataTable =\n",
              "            await google.colab.kernel.invokeFunction('convertToInteractive',\n",
              "                                                     [key], {});\n",
              "          if (!dataTable) return;\n",
              "\n",
              "          const docLinkHtml = 'Like what you see? Visit the ' +\n",
              "            '<a target=\"_blank\" href=https://colab.research.google.com/notebooks/data_table.ipynb>data table notebook</a>'\n",
              "            + ' to learn more about interactive tables.';\n",
              "          element.innerHTML = '';\n",
              "          dataTable['output_type'] = 'display_data';\n",
              "          await google.colab.output.renderOutput(dataTable, element);\n",
              "          const docLink = document.createElement('div');\n",
              "          docLink.innerHTML = docLinkHtml;\n",
              "          element.appendChild(docLink);\n",
              "        }\n",
              "      </script>\n",
              "    </div>\n",
              "  </div>\n",
              "  "
            ],
            "text/plain": [
              "          Unnamed: 0\n",
              "count  232074.000000\n",
              "mean   174152.863518\n",
              "std    100500.425362\n",
              "min         2.000000\n",
              "25%     87049.250000\n",
              "50%    174358.500000\n",
              "75%    261285.750000\n",
              "max    348110.000000"
            ]
          },
          "execution_count": 8,
          "metadata": {},
          "output_type": "execute_result"
        }
      ],
      "source": [
        "suicide_dt.describe()"
      ]
    },
    {
      "cell_type": "code",
      "execution_count": null,
      "metadata": {
        "colab": {
          "base_uri": "https://localhost:8080/"
        },
        "id": "K1IqRM__iHOG",
        "outputId": "fac5982f-48ab-4809-8202-9dec39dc92e9"
      },
      "outputs": [
        {
          "data": {
            "text/plain": [
              "non-suicide    116037\n",
              "suicide        116037\n",
              "Name: class, dtype: int64"
            ]
          },
          "execution_count": 9,
          "metadata": {},
          "output_type": "execute_result"
        }
      ],
      "source": [
        "suicide_dt['class'].value_counts() #count the number of rows for each class"
      ]
    },
    {
      "cell_type": "code",
      "execution_count": null,
      "metadata": {
        "colab": {
          "base_uri": "https://localhost:8080/"
        },
        "id": "gnlTT4yEiHQm",
        "outputId": "b31abf3f-5a18-4723-ebc2-429d99017546"
      },
      "outputs": [
        {
          "name": "stdout",
          "output_type": "stream",
          "text": [
            "6.0\n",
            "4.0\n"
          ]
        }
      ],
      "source": [
        "#To make figure size a bit larger\n",
        "plot_size = plt.rcParams[\"figure.figsize\"] \n",
        "print(plot_size[0]) \n",
        "print(plot_size[1])\n",
        "\n",
        "plot_size[0] = 8\n",
        "plot_size[1] = 6\n",
        "plt.rcParams[\"figure.figsize\"] = plot_size"
      ]
    },
    {
      "cell_type": "code",
      "execution_count": null,
      "metadata": {
        "colab": {
          "base_uri": "https://localhost:8080/",
          "height": 375
        },
        "id": "rdnK0KIWicLh",
        "outputId": "19967ff1-6c00-42ed-eec5-d4d6a4b085d2"
      },
      "outputs": [
        {
          "data": {
            "text/plain": [
              "<matplotlib.axes._subplots.AxesSubplot at 0x7f28b35e6690>"
            ]
          },
          "execution_count": 11,
          "metadata": {},
          "output_type": "execute_result"
        },
        {
          "data": {
            "image/png": "[encoded data removed]",
            "text/plain": [
              "<Figure size 576x432 with 1 Axes>"
            ]
          },
          "metadata": {},
          "output_type": "display_data"
        }
      ],
      "source": [
        "suicide_dt['class'].value_counts().plot(kind='pie', autopct='%1.0f%%',colors=[\"red\", \"green\"])"
      ]
    },
    {
      "cell_type": "code",
      "execution_count": null,
      "metadata": {
        "colab": {
          "base_uri": "https://localhost:8080/",
          "height": 350
        },
        "id": "ehAQ7RaVicOT",
        "outputId": "17f7f5d0-c2de-40e7-aea8-14dbdc8f4418"
      },
      "outputs": [
        {
          "data": {
            "image/png": "[encoded data removed]",
            "text/plain": [
              "<Figure size 432x360 with 1 Axes>"
            ]
          },
          "metadata": {},
          "output_type": "display_data"
        }
      ],
      "source": [
        "#we have create a count plot to compare the number of suicidal and non-suicidal sentiments.\n",
        "import seaborn as sn\n",
        "%matplotlib inline\n",
        "plt.figure(figsize=(6,5))\n",
        "plt.title(\"Record of suicidal and non-suicidal sentiments\")\n",
        "plot = sn.countplot(x = 'class', data=suicide_dt)\n",
        "for p in plot.patches:\n",
        "    plot.annotate(p.get_height(),(p.get_x()+0.3 ,p.get_height()+80))"
      ]
    },
    {
      "cell_type": "markdown",
      "metadata": {
        "id": "Y7Wx847fbrBP"
      },
      "source": [
        "#Pre Processing Cleaning Data"
      ]
    },
    {
      "cell_type": "code",
      "execution_count": null,
      "metadata": {
        "id": "UUtcFyTsicRY"
      },
      "outputs": [],
      "source": [
        "def text_cleaning(text):\n",
        "    list_subreddit = []\n",
        "    for reddit in range(len(text)):\n",
        "        reddit = re.sub(r'\\W', ' ', str(text[reddit])) #convertig byte-like object into string\n",
        "      #since review has already str(X[i]) so we will keep using review \n",
        "        reddit = reddit.lower()\n",
        "        reddit = re.sub(r'\\s+[a-z]\\s+', ' ',reddit) #removing single characters\n",
        "        reddit = re.sub(r'^[a-z]\\s+',' ', reddit) #removing single characters at the start of sentece I & space\n",
        "        reddit = re.sub(r'\\W',' ', reddit) # Removing special characters\n",
        "        reddit = re.sub(r'\\d',' ', reddit) #Removing digits\n",
        "        reddit = re.sub(r'^\\s+[a-z]$',' ', reddit)\n",
        "\n",
        "        # Removing Contraction\n",
        "        reddit = re.sub(r'https://t.co/[a-zA-Z0-9]*\\s', ' ', reddit)\n",
        "        reddit = re.sub(r'\\s+https://t.co/[a-zA-Z0-9]*\\s', ' ', reddit)\n",
        "        reddit = re.sub(r'\\s+https://t.co/[a-zA-Z0-9]*$', ' ', reddit)\n",
        "        reddit  = re.sub(r\"won't\" ,\"will not\" , reddit)\n",
        "        reddit  = re.sub(r\"that's\" ,\"that is\" , reddit)\n",
        "        reddit = re.sub(r\"what's\",\"what is\", reddit)\n",
        "        reddit = re.sub(r\"it's\",\"it is\", reddit)\n",
        "        reddit = re.sub(r\"who's\",\"who is\", reddit)\n",
        "        reddit = re.sub(r\"she's\",\"she is\", reddit)\n",
        "        reddit = re.sub(r\"i'm\",\"i am\", reddit)\n",
        "        reddit = re.sub(r\"he's\",\"he is\", reddit)\n",
        "        reddit = re.sub(r\"they're\",\"they are\", reddit)\n",
        "        reddit = re.sub(r\"ain't\",\"am not\", reddit)\n",
        "        reddit = re.sub(r\"wouldn't\",\"would not\", reddit)\n",
        "        reddit = re.sub(r\"shouldn't\",\"should not\", reddit)\n",
        "        reddit = re.sub(r\"can't\",\"can not\", reddit)\n",
        "        reddit = re.sub(r\"couldn't\",\"could not\", reddit)\n",
        "        reddit = re.sub(r\"won't\",\"would not\", reddit)\n",
        "        list_subreddit.append(reddit)\n",
        "\n",
        "    return list_subreddit\n",
        "\n",
        "suicide_dt[\"list_subreddit\"]= text_cleaning(suicide_dt[\"text\"])\n"
      ]
    },
    {
      "cell_type": "markdown",
      "metadata": {
        "id": "tl8vPzEgbwDa"
      },
      "source": [
        "**Stop Words Removal**"
      ]
    },
    {
      "cell_type": "markdown",
      "metadata": {
        "id": "IRQ2bhHEb2Qc"
      },
      "source": [
        "Stop words are words(often very common words in a particular language) that do not add value to the meaning of a sentence or paragraph. Like- ‘You’, ‘This’, ‘That’, ‘The’ do not help in determining the sentiment of a given sentence."
      ]
    },
    {
      "cell_type": "code",
      "execution_count": null,
      "metadata": {
        "colab": {
          "base_uri": "https://localhost:8080/"
        },
        "id": "lB_A8hUyicT4",
        "outputId": "60570724-eb85-43c1-e4fc-2ee68b80559a"
      },
      "outputs": [
        {
          "name": "stdout",
          "output_type": "stream",
          "text": [
            "179\n",
            "['i', 'me', 'my', 'myself', 'we', 'our', 'ours', 'ourselves', 'you', \"you're\", \"you've\", \"you'll\", \"you'd\", 'your', 'yours', 'yourself', 'yourselves', 'he', 'him', 'his', 'himself', 'she', \"she's\", 'her', 'hers', 'herself', 'it', \"it's\", 'its', 'itself']\n"
          ]
        }
      ],
      "source": [
        "english_stop_words = tk.corpus.stopwords.words('english')\n",
        "print(len(english_stop_words))\n",
        "print (english_stop_words[:30])"
      ]
    },
    {
      "cell_type": "code",
      "execution_count": null,
      "metadata": {
        "id": "4I1_TK2VicWi"
      },
      "outputs": [],
      "source": [
        "def remove_stop_words(text):\n",
        "    for word in english_stop_words:\n",
        "        word = ' ' + word + ' '\n",
        "        stopword = text.replace(word, ' ')\n",
        "    return stopword\n",
        " \n",
        "suicide_dt['New_Text'] = suicide_dt['list_subreddit'].apply(remove_stop_words)"
      ]
    },
    {
      "cell_type": "code",
      "execution_count": null,
      "metadata": {
        "colab": {
          "base_uri": "https://localhost:8080/",
          "height": 250
        },
        "id": "bcJ8uMLbicZb",
        "outputId": "dfa3d1dd-3a38-44e0-d716-a025bdcff576"
      },
      "outputs": [
        {
          "data": {
            "text/html": [
              "\n",
              "  <div id=\"df-15a411af-b3d9-4b13-9bde-15f44e792d3d\">\n",
              "    <div class=\"colab-df-container\">\n",
              "      <div>\n",
              "<style scoped>\n",
              "    .dataframe tbody tr th:only-of-type {\n",
              "        vertical-align: middle;\n",
              "    }\n",
              "\n",
              "    .dataframe tbody tr th {\n",
              "        vertical-align: top;\n",
              "    }\n",
              "\n",
              "    .dataframe thead th {\n",
              "        text-align: right;\n",
              "    }\n",
              "</style>\n",
              "<table border=\"1\" class=\"dataframe\">\n",
              "  <thead>\n",
              "    <tr style=\"text-align: right;\">\n",
              "      <th></th>\n",
              "      <th>Unnamed: 0</th>\n",
              "      <th>text</th>\n",
              "      <th>class</th>\n",
              "      <th>list_subreddit</th>\n",
              "      <th>New_Text</th>\n",
              "    </tr>\n",
              "  </thead>\n",
              "  <tbody>\n",
              "    <tr>\n",
              "      <th>0</th>\n",
              "      <td>2</td>\n",
              "      <td>Ex Wife Threatening SuicideRecently I left my ...</td>\n",
              "      <td>suicide</td>\n",
              "      <td>ex wife threatening suiciderecently left my wi...</td>\n",
              "      <td>ex wife threatening suiciderecently left my wi...</td>\n",
              "    </tr>\n",
              "    <tr>\n",
              "      <th>1</th>\n",
              "      <td>3</td>\n",
              "      <td>Am I weird I don't get affected by compliments...</td>\n",
              "      <td>non-suicide</td>\n",
              "      <td>am weird don get affected by compliments if it...</td>\n",
              "      <td>am weird don get affected by compliments if it...</td>\n",
              "    </tr>\n",
              "    <tr>\n",
              "      <th>2</th>\n",
              "      <td>4</td>\n",
              "      <td>Finally 2020 is almost over... So I can never ...</td>\n",
              "      <td>non-suicide</td>\n",
              "      <td>finally      is almost over    so can never he...</td>\n",
              "      <td>finally      is almost over    so can never he...</td>\n",
              "    </tr>\n",
              "    <tr>\n",
              "      <th>3</th>\n",
              "      <td>8</td>\n",
              "      <td>i need helpjust help me im crying so hard</td>\n",
              "      <td>suicide</td>\n",
              "      <td>need helpjust help me im crying so hard</td>\n",
              "      <td>need helpjust help me im crying so hard</td>\n",
              "    </tr>\n",
              "    <tr>\n",
              "      <th>4</th>\n",
              "      <td>9</td>\n",
              "      <td>I’m so lostHello, my name is Adam (16) and I’v...</td>\n",
              "      <td>suicide</td>\n",
              "      <td>so losthello  my name is adam      and ve bee...</td>\n",
              "      <td>so losthello  my name is adam      and ve bee...</td>\n",
              "    </tr>\n",
              "  </tbody>\n",
              "</table>\n",
              "</div>\n",
              "      <button class=\"colab-df-convert\" onclick=\"convertToInteractive('df-15a411af-b3d9-4b13-9bde-15f44e792d3d')\"\n",
              "              title=\"Convert this dataframe to an interactive table.\"\n",
              "              style=\"display:none;\">\n",
              "        \n",
              "  <svg xmlns=\"http://www.w3.org/2000/svg\" height=\"24px\"viewBox=\"0 0 24 24\"\n",
              "       width=\"24px\">\n",
              "    <path d=\"M0 0h24v24H0V0z\" fill=\"none\"/>\n",
              "    <path d=\"M18.56 5.44l.94 2.06.94-2.06 2.06-.94-2.06-.94-.94-2.06-.94 2.06-2.06.94zm-11 1L8.5 8.5l.94-2.06 2.06-.94-2.06-.94L8.5 2.5l-.94 2.06-2.06.94zm10 10l.94 2.06.94-2.06 2.06-.94-2.06-.94-.94-2.06-.94 2.06-2.06.94z\"/><path d=\"M17.41 7.96l-1.37-1.37c-.4-.4-.92-.59-1.43-.59-.52 0-1.04.2-1.43.59L10.3 9.45l-7.72 7.72c-.78.78-.78 2.05 0 2.83L4 21.41c.39.39.9.59 1.41.59.51 0 1.02-.2 1.41-.59l7.78-7.78 2.81-2.81c.8-.78.8-2.07 0-2.86zM5.41 20L4 18.59l7.72-7.72 1.47 1.35L5.41 20z\"/>\n",
              "  </svg>\n",
              "      </button>\n",
              "      \n",
              "  <style>\n",
              "    .colab-df-container {\n",
              "      display:flex;\n",
              "      flex-wrap:wrap;\n",
              "      gap: 12px;\n",
              "    }\n",
              "\n",
              "    .colab-df-convert {\n",
              "      background-color: #E8F0FE;\n",
              "      border: none;\n",
              "      border-radius: 50%;\n",
              "      cursor: pointer;\n",
              "      display: none;\n",
              "      fill: #1967D2;\n",
              "      height: 32px;\n",
              "      padding: 0 0 0 0;\n",
              "      width: 32px;\n",
              "    }\n",
              "\n",
              "    .colab-df-convert:hover {\n",
              "      background-color: #E2EBFA;\n",
              "      box-shadow: 0px 1px 2px rgba(60, 64, 67, 0.3), 0px 1px 3px 1px rgba(60, 64, 67, 0.15);\n",
              "      fill: #174EA6;\n",
              "    }\n",
              "\n",
              "    [theme=dark] .colab-df-convert {\n",
              "      background-color: #3B4455;\n",
              "      fill: #D2E3FC;\n",
              "    }\n",
              "\n",
              "    [theme=dark] .colab-df-convert:hover {\n",
              "      background-color: #434B5C;\n",
              "      box-shadow: 0px 1px 3px 1px rgba(0, 0, 0, 0.15);\n",
              "      filter: drop-shadow(0px 1px 2px rgba(0, 0, 0, 0.3));\n",
              "      fill: #FFFFFF;\n",
              "    }\n",
              "  </style>\n",
              "\n",
              "      <script>\n",
              "        const buttonEl =\n",
              "          document.querySelector('#df-15a411af-b3d9-4b13-9bde-15f44e792d3d button.colab-df-convert');\n",
              "        buttonEl.style.display =\n",
              "          google.colab.kernel.accessAllowed ? 'block' : 'none';\n",
              "\n",
              "        async function convertToInteractive(key) {\n",
              "          const element = document.querySelector('#df-15a411af-b3d9-4b13-9bde-15f44e792d3d');\n",
              "          const dataTable =\n",
              "            await google.colab.kernel.invokeFunction('convertToInteractive',\n",
              "                                                     [key], {});\n",
              "          if (!dataTable) return;\n",
              "\n",
              "          const docLinkHtml = 'Like what you see? Visit the ' +\n",
              "            '<a target=\"_blank\" href=https://colab.research.google.com/notebooks/data_table.ipynb>data table notebook</a>'\n",
              "            + ' to learn more about interactive tables.';\n",
              "          element.innerHTML = '';\n",
              "          dataTable['output_type'] = 'display_data';\n",
              "          await google.colab.output.renderOutput(dataTable, element);\n",
              "          const docLink = document.createElement('div');\n",
              "          docLink.innerHTML = docLinkHtml;\n",
              "          element.appendChild(docLink);\n",
              "        }\n",
              "      </script>\n",
              "    </div>\n",
              "  </div>\n",
              "  "
            ],
            "text/plain": [
              "   Unnamed: 0  ...                                           New_Text\n",
              "0           2  ...  ex wife threatening suiciderecently left my wi...\n",
              "1           3  ...  am weird don get affected by compliments if it...\n",
              "2           4  ...  finally      is almost over    so can never he...\n",
              "3           8  ...            need helpjust help me im crying so hard\n",
              "4           9  ...   so losthello  my name is adam      and ve bee...\n",
              "\n",
              "[5 rows x 5 columns]"
            ]
          },
          "execution_count": 16,
          "metadata": {},
          "output_type": "execute_result"
        }
      ],
      "source": [
        "suicide_dt.head()"
      ]
    },
    {
      "cell_type": "code",
      "execution_count": null,
      "metadata": {
        "id": "Y3V17CZOicby"
      },
      "outputs": [],
      "source": [
        "#Removing Rare Words\n",
        "from collections import Counter\n",
        "cnt = Counter()\n",
        "cnt.most_common(10)\n",
        "n_rare_words = 10\n",
        "RAREWORDS = set([rare for (rare, rare_word) in cnt.most_common()[:-n_rare_words-1:-1]])\n",
        "def remove_rarewords(text):\n",
        "    \"\"\"custom function to remove the rare words\"\"\"\n",
        "    return \" \".join([word for word in str(text).split() if word not in RAREWORDS])"
      ]
    },
    {
      "cell_type": "code",
      "execution_count": null,
      "metadata": {
        "colab": {
          "base_uri": "https://localhost:8080/",
          "height": 250
        },
        "id": "NI5JtTAiice1",
        "outputId": "b4030b05-0db1-4174-8d6f-39e440b5d3c0"
      },
      "outputs": [
        {
          "data": {
            "text/html": [
              "\n",
              "  <div id=\"df-517f8c33-042b-4ccc-a490-7fd6b24e005c\">\n",
              "    <div class=\"colab-df-container\">\n",
              "      <div>\n",
              "<style scoped>\n",
              "    .dataframe tbody tr th:only-of-type {\n",
              "        vertical-align: middle;\n",
              "    }\n",
              "\n",
              "    .dataframe tbody tr th {\n",
              "        vertical-align: top;\n",
              "    }\n",
              "\n",
              "    .dataframe thead th {\n",
              "        text-align: right;\n",
              "    }\n",
              "</style>\n",
              "<table border=\"1\" class=\"dataframe\">\n",
              "  <thead>\n",
              "    <tr style=\"text-align: right;\">\n",
              "      <th></th>\n",
              "      <th>Unnamed: 0</th>\n",
              "      <th>text</th>\n",
              "      <th>class</th>\n",
              "      <th>list_subreddit</th>\n",
              "      <th>New_Text</th>\n",
              "    </tr>\n",
              "  </thead>\n",
              "  <tbody>\n",
              "    <tr>\n",
              "      <th>0</th>\n",
              "      <td>2</td>\n",
              "      <td>Ex Wife Threatening SuicideRecently I left my ...</td>\n",
              "      <td>suicide</td>\n",
              "      <td>ex wife threatening suiciderecently left my wi...</td>\n",
              "      <td>ex wife threatening suiciderecently left my wi...</td>\n",
              "    </tr>\n",
              "    <tr>\n",
              "      <th>1</th>\n",
              "      <td>3</td>\n",
              "      <td>Am I weird I don't get affected by compliments...</td>\n",
              "      <td>non-suicide</td>\n",
              "      <td>am weird don get affected by compliments if it...</td>\n",
              "      <td>am weird don get affected by compliments if it...</td>\n",
              "    </tr>\n",
              "    <tr>\n",
              "      <th>2</th>\n",
              "      <td>4</td>\n",
              "      <td>Finally 2020 is almost over... So I can never ...</td>\n",
              "      <td>non-suicide</td>\n",
              "      <td>finally      is almost over    so can never he...</td>\n",
              "      <td>finally is almost over so can never hear has b...</td>\n",
              "    </tr>\n",
              "    <tr>\n",
              "      <th>3</th>\n",
              "      <td>8</td>\n",
              "      <td>i need helpjust help me im crying so hard</td>\n",
              "      <td>suicide</td>\n",
              "      <td>need helpjust help me im crying so hard</td>\n",
              "      <td>need helpjust help me im crying so hard</td>\n",
              "    </tr>\n",
              "    <tr>\n",
              "      <th>4</th>\n",
              "      <td>9</td>\n",
              "      <td>I’m so lostHello, my name is Adam (16) and I’v...</td>\n",
              "      <td>suicide</td>\n",
              "      <td>so losthello  my name is adam      and ve bee...</td>\n",
              "      <td>so losthello my name is adam and ve been strug...</td>\n",
              "    </tr>\n",
              "  </tbody>\n",
              "</table>\n",
              "</div>\n",
              "      <button class=\"colab-df-convert\" onclick=\"convertToInteractive('df-517f8c33-042b-4ccc-a490-7fd6b24e005c')\"\n",
              "              title=\"Convert this dataframe to an interactive table.\"\n",
              "              style=\"display:none;\">\n",
              "        \n",
              "  <svg xmlns=\"http://www.w3.org/2000/svg\" height=\"24px\"viewBox=\"0 0 24 24\"\n",
              "       width=\"24px\">\n",
              "    <path d=\"M0 0h24v24H0V0z\" fill=\"none\"/>\n",
              "    <path d=\"M18.56 5.44l.94 2.06.94-2.06 2.06-.94-2.06-.94-.94-2.06-.94 2.06-2.06.94zm-11 1L8.5 8.5l.94-2.06 2.06-.94-2.06-.94L8.5 2.5l-.94 2.06-2.06.94zm10 10l.94 2.06.94-2.06 2.06-.94-2.06-.94-.94-2.06-.94 2.06-2.06.94z\"/><path d=\"M17.41 7.96l-1.37-1.37c-.4-.4-.92-.59-1.43-.59-.52 0-1.04.2-1.43.59L10.3 9.45l-7.72 7.72c-.78.78-.78 2.05 0 2.83L4 21.41c.39.39.9.59 1.41.59.51 0 1.02-.2 1.41-.59l7.78-7.78 2.81-2.81c.8-.78.8-2.07 0-2.86zM5.41 20L4 18.59l7.72-7.72 1.47 1.35L5.41 20z\"/>\n",
              "  </svg>\n",
              "      </button>\n",
              "      \n",
              "  <style>\n",
              "    .colab-df-container {\n",
              "      display:flex;\n",
              "      flex-wrap:wrap;\n",
              "      gap: 12px;\n",
              "    }\n",
              "\n",
              "    .colab-df-convert {\n",
              "      background-color: #E8F0FE;\n",
              "      border: none;\n",
              "      border-radius: 50%;\n",
              "      cursor: pointer;\n",
              "      display: none;\n",
              "      fill: #1967D2;\n",
              "      height: 32px;\n",
              "      padding: 0 0 0 0;\n",
              "      width: 32px;\n",
              "    }\n",
              "\n",
              "    .colab-df-convert:hover {\n",
              "      background-color: #E2EBFA;\n",
              "      box-shadow: 0px 1px 2px rgba(60, 64, 67, 0.3), 0px 1px 3px 1px rgba(60, 64, 67, 0.15);\n",
              "      fill: #174EA6;\n",
              "    }\n",
              "\n",
              "    [theme=dark] .colab-df-convert {\n",
              "      background-color: #3B4455;\n",
              "      fill: #D2E3FC;\n",
              "    }\n",
              "\n",
              "    [theme=dark] .colab-df-convert:hover {\n",
              "      background-color: #434B5C;\n",
              "      box-shadow: 0px 1px 3px 1px rgba(0, 0, 0, 0.15);\n",
              "      filter: drop-shadow(0px 1px 2px rgba(0, 0, 0, 0.3));\n",
              "      fill: #FFFFFF;\n",
              "    }\n",
              "  </style>\n",
              "\n",
              "      <script>\n",
              "        const buttonEl =\n",
              "          document.querySelector('#df-517f8c33-042b-4ccc-a490-7fd6b24e005c button.colab-df-convert');\n",
              "        buttonEl.style.display =\n",
              "          google.colab.kernel.accessAllowed ? 'block' : 'none';\n",
              "\n",
              "        async function convertToInteractive(key) {\n",
              "          const element = document.querySelector('#df-517f8c33-042b-4ccc-a490-7fd6b24e005c');\n",
              "          const dataTable =\n",
              "            await google.colab.kernel.invokeFunction('convertToInteractive',\n",
              "                                                     [key], {});\n",
              "          if (!dataTable) return;\n",
              "\n",
              "          const docLinkHtml = 'Like what you see? Visit the ' +\n",
              "            '<a target=\"_blank\" href=https://colab.research.google.com/notebooks/data_table.ipynb>data table notebook</a>'\n",
              "            + ' to learn more about interactive tables.';\n",
              "          element.innerHTML = '';\n",
              "          dataTable['output_type'] = 'display_data';\n",
              "          await google.colab.output.renderOutput(dataTable, element);\n",
              "          const docLink = document.createElement('div');\n",
              "          docLink.innerHTML = docLinkHtml;\n",
              "          element.appendChild(docLink);\n",
              "        }\n",
              "      </script>\n",
              "    </div>\n",
              "  </div>\n",
              "  "
            ],
            "text/plain": [
              "   Unnamed: 0  ...                                           New_Text\n",
              "0           2  ...  ex wife threatening suiciderecently left my wi...\n",
              "1           3  ...  am weird don get affected by compliments if it...\n",
              "2           4  ...  finally is almost over so can never hear has b...\n",
              "3           8  ...            need helpjust help me im crying so hard\n",
              "4           9  ...  so losthello my name is adam and ve been strug...\n",
              "\n",
              "[5 rows x 5 columns]"
            ]
          },
          "execution_count": 18,
          "metadata": {},
          "output_type": "execute_result"
        }
      ],
      "source": [
        "suicide_dt[\"New_Text\"] = suicide_dt[\"New_Text\"].apply(lambda text: remove_rarewords(text))\n",
        "suicide_dt.head()"
      ]
    },
    {
      "cell_type": "markdown",
      "metadata": {
        "id": "ioy0IWz0cA9l"
      },
      "source": [
        "#Tokenization"
      ]
    },
    {
      "cell_type": "markdown",
      "metadata": {
        "id": "HIh3Jb1LcX1D"
      },
      "source": [
        "Tokenization is the process of tokenizing or splitting a string, text into a list of tokens."
      ]
    },
    {
      "cell_type": "code",
      "execution_count": null,
      "metadata": {
        "id": "tGUm-bQ6ickK"
      },
      "outputs": [],
      "source": [
        "#https://pythonhealthcare.org/2018/12/14/101-pre-processing-data-tokenization-stemming-and-removal-of-stop-words/\n",
        "def identify_tokens(text):\n",
        "    texts = text['New_Text']\n",
        "    tokens = tk.word_tokenize(texts)\n",
        "    token_words = [w for w in tokens]\n",
        "    return token_words\n",
        "\n",
        "suicide_dt['tokenized_words'] = suicide_dt.apply(identify_tokens, axis=1)"
      ]
    },
    {
      "cell_type": "code",
      "execution_count": null,
      "metadata": {
        "colab": {
          "base_uri": "https://localhost:8080/",
          "height": 354
        },
        "id": "4CDBccFXkQNa",
        "outputId": "4ae8599f-842b-4161-8a0d-ccca2a74af0b"
      },
      "outputs": [
        {
          "data": {
            "text/html": [
              "\n",
              "  <div id=\"df-1476f1cc-54f7-4ae2-821f-067c4d6a72bb\">\n",
              "    <div class=\"colab-df-container\">\n",
              "      <div>\n",
              "<style scoped>\n",
              "    .dataframe tbody tr th:only-of-type {\n",
              "        vertical-align: middle;\n",
              "    }\n",
              "\n",
              "    .dataframe tbody tr th {\n",
              "        vertical-align: top;\n",
              "    }\n",
              "\n",
              "    .dataframe thead th {\n",
              "        text-align: right;\n",
              "    }\n",
              "</style>\n",
              "<table border=\"1\" class=\"dataframe\">\n",
              "  <thead>\n",
              "    <tr style=\"text-align: right;\">\n",
              "      <th></th>\n",
              "      <th>Unnamed: 0</th>\n",
              "      <th>text</th>\n",
              "      <th>class</th>\n",
              "      <th>list_subreddit</th>\n",
              "      <th>New_Text</th>\n",
              "      <th>tokenized_words</th>\n",
              "    </tr>\n",
              "  </thead>\n",
              "  <tbody>\n",
              "    <tr>\n",
              "      <th>0</th>\n",
              "      <td>2</td>\n",
              "      <td>Ex Wife Threatening SuicideRecently I left my ...</td>\n",
              "      <td>suicide</td>\n",
              "      <td>ex wife threatening suiciderecently left my wi...</td>\n",
              "      <td>ex wife threatening suiciderecently left my wi...</td>\n",
              "      <td>[ex, wife, threatening, suiciderecently, left,...</td>\n",
              "    </tr>\n",
              "    <tr>\n",
              "      <th>1</th>\n",
              "      <td>3</td>\n",
              "      <td>Am I weird I don't get affected by compliments...</td>\n",
              "      <td>non-suicide</td>\n",
              "      <td>am weird don get affected by compliments if it...</td>\n",
              "      <td>am weird don get affected by compliments if it...</td>\n",
              "      <td>[am, weird, don, get, affected, by, compliment...</td>\n",
              "    </tr>\n",
              "    <tr>\n",
              "      <th>2</th>\n",
              "      <td>4</td>\n",
              "      <td>Finally 2020 is almost over... So I can never ...</td>\n",
              "      <td>non-suicide</td>\n",
              "      <td>finally      is almost over    so can never he...</td>\n",
              "      <td>finally is almost over so can never hear has b...</td>\n",
              "      <td>[finally, is, almost, over, so, can, never, he...</td>\n",
              "    </tr>\n",
              "    <tr>\n",
              "      <th>3</th>\n",
              "      <td>8</td>\n",
              "      <td>i need helpjust help me im crying so hard</td>\n",
              "      <td>suicide</td>\n",
              "      <td>need helpjust help me im crying so hard</td>\n",
              "      <td>need helpjust help me im crying so hard</td>\n",
              "      <td>[need, helpjust, help, me, im, crying, so, hard]</td>\n",
              "    </tr>\n",
              "    <tr>\n",
              "      <th>4</th>\n",
              "      <td>9</td>\n",
              "      <td>I’m so lostHello, my name is Adam (16) and I’v...</td>\n",
              "      <td>suicide</td>\n",
              "      <td>so losthello  my name is adam      and ve bee...</td>\n",
              "      <td>so losthello my name is adam and ve been strug...</td>\n",
              "      <td>[so, losthello, my, name, is, adam, and, ve, b...</td>\n",
              "    </tr>\n",
              "  </tbody>\n",
              "</table>\n",
              "</div>\n",
              "      <button class=\"colab-df-convert\" onclick=\"convertToInteractive('df-1476f1cc-54f7-4ae2-821f-067c4d6a72bb')\"\n",
              "              title=\"Convert this dataframe to an interactive table.\"\n",
              "              style=\"display:none;\">\n",
              "        \n",
              "  <svg xmlns=\"http://www.w3.org/2000/svg\" height=\"24px\"viewBox=\"0 0 24 24\"\n",
              "       width=\"24px\">\n",
              "    <path d=\"M0 0h24v24H0V0z\" fill=\"none\"/>\n",
              "    <path d=\"M18.56 5.44l.94 2.06.94-2.06 2.06-.94-2.06-.94-.94-2.06-.94 2.06-2.06.94zm-11 1L8.5 8.5l.94-2.06 2.06-.94-2.06-.94L8.5 2.5l-.94 2.06-2.06.94zm10 10l.94 2.06.94-2.06 2.06-.94-2.06-.94-.94-2.06-.94 2.06-2.06.94z\"/><path d=\"M17.41 7.96l-1.37-1.37c-.4-.4-.92-.59-1.43-.59-.52 0-1.04.2-1.43.59L10.3 9.45l-7.72 7.72c-.78.78-.78 2.05 0 2.83L4 21.41c.39.39.9.59 1.41.59.51 0 1.02-.2 1.41-.59l7.78-7.78 2.81-2.81c.8-.78.8-2.07 0-2.86zM5.41 20L4 18.59l7.72-7.72 1.47 1.35L5.41 20z\"/>\n",
              "  </svg>\n",
              "      </button>\n",
              "      \n",
              "  <style>\n",
              "    .colab-df-container {\n",
              "      display:flex;\n",
              "      flex-wrap:wrap;\n",
              "      gap: 12px;\n",
              "    }\n",
              "\n",
              "    .colab-df-convert {\n",
              "      background-color: #E8F0FE;\n",
              "      border: none;\n",
              "      border-radius: 50%;\n",
              "      cursor: pointer;\n",
              "      display: none;\n",
              "      fill: #1967D2;\n",
              "      height: 32px;\n",
              "      padding: 0 0 0 0;\n",
              "      width: 32px;\n",
              "    }\n",
              "\n",
              "    .colab-df-convert:hover {\n",
              "      background-color: #E2EBFA;\n",
              "      box-shadow: 0px 1px 2px rgba(60, 64, 67, 0.3), 0px 1px 3px 1px rgba(60, 64, 67, 0.15);\n",
              "      fill: #174EA6;\n",
              "    }\n",
              "\n",
              "    [theme=dark] .colab-df-convert {\n",
              "      background-color: #3B4455;\n",
              "      fill: #D2E3FC;\n",
              "    }\n",
              "\n",
              "    [theme=dark] .colab-df-convert:hover {\n",
              "      background-color: #434B5C;\n",
              "      box-shadow: 0px 1px 3px 1px rgba(0, 0, 0, 0.15);\n",
              "      filter: drop-shadow(0px 1px 2px rgba(0, 0, 0, 0.3));\n",
              "      fill: #FFFFFF;\n",
              "    }\n",
              "  </style>\n",
              "\n",
              "      <script>\n",
              "        const buttonEl =\n",
              "          document.querySelector('#df-1476f1cc-54f7-4ae2-821f-067c4d6a72bb button.colab-df-convert');\n",
              "        buttonEl.style.display =\n",
              "          google.colab.kernel.accessAllowed ? 'block' : 'none';\n",
              "\n",
              "        async function convertToInteractive(key) {\n",
              "          const element = document.querySelector('#df-1476f1cc-54f7-4ae2-821f-067c4d6a72bb');\n",
              "          const dataTable =\n",
              "            await google.colab.kernel.invokeFunction('convertToInteractive',\n",
              "                                                     [key], {});\n",
              "          if (!dataTable) return;\n",
              "\n",
              "          const docLinkHtml = 'Like what you see? Visit the ' +\n",
              "            '<a target=\"_blank\" href=https://colab.research.google.com/notebooks/data_table.ipynb>data table notebook</a>'\n",
              "            + ' to learn more about interactive tables.';\n",
              "          element.innerHTML = '';\n",
              "          dataTable['output_type'] = 'display_data';\n",
              "          await google.colab.output.renderOutput(dataTable, element);\n",
              "          const docLink = document.createElement('div');\n",
              "          docLink.innerHTML = docLinkHtml;\n",
              "          element.appendChild(docLink);\n",
              "        }\n",
              "      </script>\n",
              "    </div>\n",
              "  </div>\n",
              "  "
            ],
            "text/plain": [
              "   Unnamed: 0  ...                                    tokenized_words\n",
              "0           2  ...  [ex, wife, threatening, suiciderecently, left,...\n",
              "1           3  ...  [am, weird, don, get, affected, by, compliment...\n",
              "2           4  ...  [finally, is, almost, over, so, can, never, he...\n",
              "3           8  ...   [need, helpjust, help, me, im, crying, so, hard]\n",
              "4           9  ...  [so, losthello, my, name, is, adam, and, ve, b...\n",
              "\n",
              "[5 rows x 6 columns]"
            ]
          },
          "execution_count": 20,
          "metadata": {},
          "output_type": "execute_result"
        }
      ],
      "source": [
        "suicide_dt.head()"
      ]
    },
    {
      "cell_type": "code",
      "execution_count": null,
      "metadata": {
        "id": "DgtLyDmnkQSi"
      },
      "outputs": [],
      "source": [
        ""
      ]
    },
    {
      "cell_type": "markdown",
      "metadata": {
        "id": "uViGttXhcF06"
      },
      "source": [
        "#Stemming"
      ]
    },
    {
      "cell_type": "markdown",
      "metadata": {
        "id": "rpKeZQeXcLep"
      },
      "source": [
        "Stemming is a process of bringing all different forms of a word to its root form so that machine looks at them as similar words."
      ]
    },
    {
      "cell_type": "code",
      "execution_count": null,
      "metadata": {
        "id": "1-FXzDZwicnN"
      },
      "outputs": [],
      "source": [
        "\n",
        "#Stemmer\n",
        "def stem_words(text):\n",
        "    stemmer = tk.porter.PorterStemmer()\n",
        "    token_word = text[\"tokenized_words\"]\n",
        "    return ' '.join([stemmer.stem(token) for token in token_word])\n",
        "    return token_word\n",
        " \n",
        "suicide_dt['word_stemmer'] = suicide_dt.apply(stem_words,axis=1)"
      ]
    },
    {
      "cell_type": "code",
      "execution_count": null,
      "metadata": {
        "colab": {
          "base_uri": "https://localhost:8080/",
          "height": 354
        },
        "id": "GDdY-9n7icpX",
        "outputId": "0b884836-33b3-4578-e9db-903a37e1621c"
      },
      "outputs": [
        {
          "data": {
            "text/html": [
              "\n",
              "  <div id=\"df-8950a504-5e47-4718-b9f9-21dc9faf0fa5\">\n",
              "    <div class=\"colab-df-container\">\n",
              "      <div>\n",
              "<style scoped>\n",
              "    .dataframe tbody tr th:only-of-type {\n",
              "        vertical-align: middle;\n",
              "    }\n",
              "\n",
              "    .dataframe tbody tr th {\n",
              "        vertical-align: top;\n",
              "    }\n",
              "\n",
              "    .dataframe thead th {\n",
              "        text-align: right;\n",
              "    }\n",
              "</style>\n",
              "<table border=\"1\" class=\"dataframe\">\n",
              "  <thead>\n",
              "    <tr style=\"text-align: right;\">\n",
              "      <th></th>\n",
              "      <th>Unnamed: 0</th>\n",
              "      <th>text</th>\n",
              "      <th>class</th>\n",
              "      <th>list_subreddit</th>\n",
              "      <th>New_Text</th>\n",
              "      <th>tokenized_words</th>\n",
              "      <th>word_stemmer</th>\n",
              "    </tr>\n",
              "  </thead>\n",
              "  <tbody>\n",
              "    <tr>\n",
              "      <th>0</th>\n",
              "      <td>2</td>\n",
              "      <td>Ex Wife Threatening SuicideRecently I left my ...</td>\n",
              "      <td>suicide</td>\n",
              "      <td>ex wife threatening suiciderecently left my wi...</td>\n",
              "      <td>ex wife threatening suiciderecently left my wi...</td>\n",
              "      <td>[ex, wife, threatening, suiciderecently, left,...</td>\n",
              "      <td>ex wife threaten suiciderec left my wife for g...</td>\n",
              "    </tr>\n",
              "    <tr>\n",
              "      <th>1</th>\n",
              "      <td>3</td>\n",
              "      <td>Am I weird I don't get affected by compliments...</td>\n",
              "      <td>non-suicide</td>\n",
              "      <td>am weird don get affected by compliments if it...</td>\n",
              "      <td>am weird don get affected by compliments if it...</td>\n",
              "      <td>[am, weird, don, get, affected, by, compliment...</td>\n",
              "      <td>am weird don get affect by compliment if it co...</td>\n",
              "    </tr>\n",
              "    <tr>\n",
              "      <th>2</th>\n",
              "      <td>4</td>\n",
              "      <td>Finally 2020 is almost over... So I can never ...</td>\n",
              "      <td>non-suicide</td>\n",
              "      <td>finally      is almost over    so can never he...</td>\n",
              "      <td>finally is almost over so can never hear has b...</td>\n",
              "      <td>[finally, is, almost, over, so, can, never, he...</td>\n",
              "      <td>final is almost over so can never hear ha been...</td>\n",
              "    </tr>\n",
              "    <tr>\n",
              "      <th>3</th>\n",
              "      <td>8</td>\n",
              "      <td>i need helpjust help me im crying so hard</td>\n",
              "      <td>suicide</td>\n",
              "      <td>need helpjust help me im crying so hard</td>\n",
              "      <td>need helpjust help me im crying so hard</td>\n",
              "      <td>[need, helpjust, help, me, im, crying, so, hard]</td>\n",
              "      <td>need helpjust help me im cri so hard</td>\n",
              "    </tr>\n",
              "    <tr>\n",
              "      <th>4</th>\n",
              "      <td>9</td>\n",
              "      <td>I’m so lostHello, my name is Adam (16) and I’v...</td>\n",
              "      <td>suicide</td>\n",
              "      <td>so losthello  my name is adam      and ve bee...</td>\n",
              "      <td>so losthello my name is adam and ve been strug...</td>\n",
              "      <td>[so, losthello, my, name, is, adam, and, ve, b...</td>\n",
              "      <td>so losthello my name is adam and ve been strug...</td>\n",
              "    </tr>\n",
              "  </tbody>\n",
              "</table>\n",
              "</div>\n",
              "      <button class=\"colab-df-convert\" onclick=\"convertToInteractive('df-8950a504-5e47-4718-b9f9-21dc9faf0fa5')\"\n",
              "              title=\"Convert this dataframe to an interactive table.\"\n",
              "              style=\"display:none;\">\n",
              "        \n",
              "  <svg xmlns=\"http://www.w3.org/2000/svg\" height=\"24px\"viewBox=\"0 0 24 24\"\n",
              "       width=\"24px\">\n",
              "    <path d=\"M0 0h24v24H0V0z\" fill=\"none\"/>\n",
              "    <path d=\"M18.56 5.44l.94 2.06.94-2.06 2.06-.94-2.06-.94-.94-2.06-.94 2.06-2.06.94zm-11 1L8.5 8.5l.94-2.06 2.06-.94-2.06-.94L8.5 2.5l-.94 2.06-2.06.94zm10 10l.94 2.06.94-2.06 2.06-.94-2.06-.94-.94-2.06-.94 2.06-2.06.94z\"/><path d=\"M17.41 7.96l-1.37-1.37c-.4-.4-.92-.59-1.43-.59-.52 0-1.04.2-1.43.59L10.3 9.45l-7.72 7.72c-.78.78-.78 2.05 0 2.83L4 21.41c.39.39.9.59 1.41.59.51 0 1.02-.2 1.41-.59l7.78-7.78 2.81-2.81c.8-.78.8-2.07 0-2.86zM5.41 20L4 18.59l7.72-7.72 1.47 1.35L5.41 20z\"/>\n",
              "  </svg>\n",
              "      </button>\n",
              "      \n",
              "  <style>\n",
              "    .colab-df-container {\n",
              "      display:flex;\n",
              "      flex-wrap:wrap;\n",
              "      gap: 12px;\n",
              "    }\n",
              "\n",
              "    .colab-df-convert {\n",
              "      background-color: #E8F0FE;\n",
              "      border: none;\n",
              "      border-radius: 50%;\n",
              "      cursor: pointer;\n",
              "      display: none;\n",
              "      fill: #1967D2;\n",
              "      height: 32px;\n",
              "      padding: 0 0 0 0;\n",
              "      width: 32px;\n",
              "    }\n",
              "\n",
              "    .colab-df-convert:hover {\n",
              "      background-color: #E2EBFA;\n",
              "      box-shadow: 0px 1px 2px rgba(60, 64, 67, 0.3), 0px 1px 3px 1px rgba(60, 64, 67, 0.15);\n",
              "      fill: #174EA6;\n",
              "    }\n",
              "\n",
              "    [theme=dark] .colab-df-convert {\n",
              "      background-color: #3B4455;\n",
              "      fill: #D2E3FC;\n",
              "    }\n",
              "\n",
              "    [theme=dark] .colab-df-convert:hover {\n",
              "      background-color: #434B5C;\n",
              "      box-shadow: 0px 1px 3px 1px rgba(0, 0, 0, 0.15);\n",
              "      filter: drop-shadow(0px 1px 2px rgba(0, 0, 0, 0.3));\n",
              "      fill: #FFFFFF;\n",
              "    }\n",
              "  </style>\n",
              "\n",
              "      <script>\n",
              "        const buttonEl =\n",
              "          document.querySelector('#df-8950a504-5e47-4718-b9f9-21dc9faf0fa5 button.colab-df-convert');\n",
              "        buttonEl.style.display =\n",
              "          google.colab.kernel.accessAllowed ? 'block' : 'none';\n",
              "\n",
              "        async function convertToInteractive(key) {\n",
              "          const element = document.querySelector('#df-8950a504-5e47-4718-b9f9-21dc9faf0fa5');\n",
              "          const dataTable =\n",
              "            await google.colab.kernel.invokeFunction('convertToInteractive',\n",
              "                                                     [key], {});\n",
              "          if (!dataTable) return;\n",
              "\n",
              "          const docLinkHtml = 'Like what you see? Visit the ' +\n",
              "            '<a target=\"_blank\" href=https://colab.research.google.com/notebooks/data_table.ipynb>data table notebook</a>'\n",
              "            + ' to learn more about interactive tables.';\n",
              "          element.innerHTML = '';\n",
              "          dataTable['output_type'] = 'display_data';\n",
              "          await google.colab.output.renderOutput(dataTable, element);\n",
              "          const docLink = document.createElement('div');\n",
              "          docLink.innerHTML = docLinkHtml;\n",
              "          element.appendChild(docLink);\n",
              "        }\n",
              "      </script>\n",
              "    </div>\n",
              "  </div>\n",
              "  "
            ],
            "text/plain": [
              "   Unnamed: 0  ...                                       word_stemmer\n",
              "0           2  ...  ex wife threaten suiciderec left my wife for g...\n",
              "1           3  ...  am weird don get affect by compliment if it co...\n",
              "2           4  ...  final is almost over so can never hear ha been...\n",
              "3           8  ...               need helpjust help me im cri so hard\n",
              "4           9  ...  so losthello my name is adam and ve been strug...\n",
              "\n",
              "[5 rows x 7 columns]"
            ]
          },
          "execution_count": 22,
          "metadata": {},
          "output_type": "execute_result"
        }
      ],
      "source": [
        "suicide_dt.head()"
      ]
    },
    {
      "cell_type": "code",
      "execution_count": null,
      "metadata": {
        "id": "xWumjc81icrY"
      },
      "outputs": [],
      "source": [
        "# Removing extra columns\n",
        "suicide_dt.drop([\"New_Text\"], axis=1, inplace=True)"
      ]
    },
    {
      "cell_type": "code",
      "execution_count": null,
      "metadata": {
        "colab": {
          "base_uri": "https://localhost:8080/",
          "height": 598
        },
        "id": "cHwDZvkIicuD",
        "outputId": "bed77f24-c2cc-4ac4-d100-e6820a67dace"
      },
      "outputs": [
        {
          "data": {
            "text/html": [
              "\n",
              "  <div id=\"df-d6b7abf4-bddb-4cb0-b72e-7b94500bd03e\">\n",
              "    <div class=\"colab-df-container\">\n",
              "      <div>\n",
              "<style scoped>\n",
              "    .dataframe tbody tr th:only-of-type {\n",
              "        vertical-align: middle;\n",
              "    }\n",
              "\n",
              "    .dataframe tbody tr th {\n",
              "        vertical-align: top;\n",
              "    }\n",
              "\n",
              "    .dataframe thead th {\n",
              "        text-align: right;\n",
              "    }\n",
              "</style>\n",
              "<table border=\"1\" class=\"dataframe\">\n",
              "  <thead>\n",
              "    <tr style=\"text-align: right;\">\n",
              "      <th></th>\n",
              "      <th>Unnamed: 0</th>\n",
              "      <th>text</th>\n",
              "      <th>class</th>\n",
              "      <th>list_subreddit</th>\n",
              "      <th>tokenized_words</th>\n",
              "      <th>word_stemmer</th>\n",
              "    </tr>\n",
              "  </thead>\n",
              "  <tbody>\n",
              "    <tr>\n",
              "      <th>0</th>\n",
              "      <td>2</td>\n",
              "      <td>Ex Wife Threatening SuicideRecently I left my ...</td>\n",
              "      <td>suicide</td>\n",
              "      <td>ex wife threatening suiciderecently left my wi...</td>\n",
              "      <td>[ex, wife, threatening, suiciderecently, left,...</td>\n",
              "      <td>ex wife threaten suiciderec left my wife for g...</td>\n",
              "    </tr>\n",
              "    <tr>\n",
              "      <th>1</th>\n",
              "      <td>3</td>\n",
              "      <td>Am I weird I don't get affected by compliments...</td>\n",
              "      <td>non-suicide</td>\n",
              "      <td>am weird don get affected by compliments if it...</td>\n",
              "      <td>[am, weird, don, get, affected, by, compliment...</td>\n",
              "      <td>am weird don get affect by compliment if it co...</td>\n",
              "    </tr>\n",
              "    <tr>\n",
              "      <th>2</th>\n",
              "      <td>4</td>\n",
              "      <td>Finally 2020 is almost over... So I can never ...</td>\n",
              "      <td>non-suicide</td>\n",
              "      <td>finally      is almost over    so can never he...</td>\n",
              "      <td>[finally, is, almost, over, so, can, never, he...</td>\n",
              "      <td>final is almost over so can never hear ha been...</td>\n",
              "    </tr>\n",
              "    <tr>\n",
              "      <th>3</th>\n",
              "      <td>8</td>\n",
              "      <td>i need helpjust help me im crying so hard</td>\n",
              "      <td>suicide</td>\n",
              "      <td>need helpjust help me im crying so hard</td>\n",
              "      <td>[need, helpjust, help, me, im, crying, so, hard]</td>\n",
              "      <td>need helpjust help me im cri so hard</td>\n",
              "    </tr>\n",
              "    <tr>\n",
              "      <th>4</th>\n",
              "      <td>9</td>\n",
              "      <td>I’m so lostHello, my name is Adam (16) and I’v...</td>\n",
              "      <td>suicide</td>\n",
              "      <td>so losthello  my name is adam      and ve bee...</td>\n",
              "      <td>[so, losthello, my, name, is, adam, and, ve, b...</td>\n",
              "      <td>so losthello my name is adam and ve been strug...</td>\n",
              "    </tr>\n",
              "    <tr>\n",
              "      <th>5</th>\n",
              "      <td>11</td>\n",
              "      <td>Honetly idkI dont know what im even doing here...</td>\n",
              "      <td>suicide</td>\n",
              "      <td>honetly idki dont know what im even doing here...</td>\n",
              "      <td>[honetly, idki, dont, know, what, im, even, do...</td>\n",
              "      <td>honetli idki dont know what im even do here ju...</td>\n",
              "    </tr>\n",
              "    <tr>\n",
              "      <th>6</th>\n",
              "      <td>12</td>\n",
              "      <td>[Trigger warning] Excuse for self inflicted bu...</td>\n",
              "      <td>suicide</td>\n",
              "      <td>trigger warning  excuse for self inflicted bu...</td>\n",
              "      <td>[trigger, warning, excuse, for, self, inflicte...</td>\n",
              "      <td>trigger warn excus for self inflict burn do kn...</td>\n",
              "    </tr>\n",
              "    <tr>\n",
              "      <th>7</th>\n",
              "      <td>13</td>\n",
              "      <td>It ends tonight.I can’t do it anymore. \\nI quit.</td>\n",
              "      <td>suicide</td>\n",
              "      <td>it ends tonight can do it anymore quit</td>\n",
              "      <td>[it, ends, tonight, can, do, it, anymore, quit]</td>\n",
              "      <td>it end tonight can do it anymor quit</td>\n",
              "    </tr>\n",
              "    <tr>\n",
              "      <th>8</th>\n",
              "      <td>16</td>\n",
              "      <td>Everyone wants to be \"edgy\" and it's making me...</td>\n",
              "      <td>non-suicide</td>\n",
              "      <td>everyone wants to be  edgy  and it making me s...</td>\n",
              "      <td>[everyone, wants, to, be, edgy, and, it, makin...</td>\n",
              "      <td>everyon want to be edgi and it make me self co...</td>\n",
              "    </tr>\n",
              "    <tr>\n",
              "      <th>9</th>\n",
              "      <td>18</td>\n",
              "      <td>My life is over at 20 years oldHello all. I am...</td>\n",
              "      <td>suicide</td>\n",
              "      <td>my life is over at    years oldhello all am   ...</td>\n",
              "      <td>[my, life, is, over, at, years, oldhello, all,...</td>\n",
              "      <td>my life is over at year oldhello all am year o...</td>\n",
              "    </tr>\n",
              "  </tbody>\n",
              "</table>\n",
              "</div>\n",
              "      <button class=\"colab-df-convert\" onclick=\"convertToInteractive('df-d6b7abf4-bddb-4cb0-b72e-7b94500bd03e')\"\n",
              "              title=\"Convert this dataframe to an interactive table.\"\n",
              "              style=\"display:none;\">\n",
              "        \n",
              "  <svg xmlns=\"http://www.w3.org/2000/svg\" height=\"24px\"viewBox=\"0 0 24 24\"\n",
              "       width=\"24px\">\n",
              "    <path d=\"M0 0h24v24H0V0z\" fill=\"none\"/>\n",
              "    <path d=\"M18.56 5.44l.94 2.06.94-2.06 2.06-.94-2.06-.94-.94-2.06-.94 2.06-2.06.94zm-11 1L8.5 8.5l.94-2.06 2.06-.94-2.06-.94L8.5 2.5l-.94 2.06-2.06.94zm10 10l.94 2.06.94-2.06 2.06-.94-2.06-.94-.94-2.06-.94 2.06-2.06.94z\"/><path d=\"M17.41 7.96l-1.37-1.37c-.4-.4-.92-.59-1.43-.59-.52 0-1.04.2-1.43.59L10.3 9.45l-7.72 7.72c-.78.78-.78 2.05 0 2.83L4 21.41c.39.39.9.59 1.41.59.51 0 1.02-.2 1.41-.59l7.78-7.78 2.81-2.81c.8-.78.8-2.07 0-2.86zM5.41 20L4 18.59l7.72-7.72 1.47 1.35L5.41 20z\"/>\n",
              "  </svg>\n",
              "      </button>\n",
              "      \n",
              "  <style>\n",
              "    .colab-df-container {\n",
              "      display:flex;\n",
              "      flex-wrap:wrap;\n",
              "      gap: 12px;\n",
              "    }\n",
              "\n",
              "    .colab-df-convert {\n",
              "      background-color: #E8F0FE;\n",
              "      border: none;\n",
              "      border-radius: 50%;\n",
              "      cursor: pointer;\n",
              "      display: none;\n",
              "      fill: #1967D2;\n",
              "      height: 32px;\n",
              "      padding: 0 0 0 0;\n",
              "      width: 32px;\n",
              "    }\n",
              "\n",
              "    .colab-df-convert:hover {\n",
              "      background-color: #E2EBFA;\n",
              "      box-shadow: 0px 1px 2px rgba(60, 64, 67, 0.3), 0px 1px 3px 1px rgba(60, 64, 67, 0.15);\n",
              "      fill: #174EA6;\n",
              "    }\n",
              "\n",
              "    [theme=dark] .colab-df-convert {\n",
              "      background-color: #3B4455;\n",
              "      fill: #D2E3FC;\n",
              "    }\n",
              "\n",
              "    [theme=dark] .colab-df-convert:hover {\n",
              "      background-color: #434B5C;\n",
              "      box-shadow: 0px 1px 3px 1px rgba(0, 0, 0, 0.15);\n",
              "      filter: drop-shadow(0px 1px 2px rgba(0, 0, 0, 0.3));\n",
              "      fill: #FFFFFF;\n",
              "    }\n",
              "  </style>\n",
              "\n",
              "      <script>\n",
              "        const buttonEl =\n",
              "          document.querySelector('#df-d6b7abf4-bddb-4cb0-b72e-7b94500bd03e button.colab-df-convert');\n",
              "        buttonEl.style.display =\n",
              "          google.colab.kernel.accessAllowed ? 'block' : 'none';\n",
              "\n",
              "        async function convertToInteractive(key) {\n",
              "          const element = document.querySelector('#df-d6b7abf4-bddb-4cb0-b72e-7b94500bd03e');\n",
              "          const dataTable =\n",
              "            await google.colab.kernel.invokeFunction('convertToInteractive',\n",
              "                                                     [key], {});\n",
              "          if (!dataTable) return;\n",
              "\n",
              "          const docLinkHtml = 'Like what you see? Visit the ' +\n",
              "            '<a target=\"_blank\" href=https://colab.research.google.com/notebooks/data_table.ipynb>data table notebook</a>'\n",
              "            + ' to learn more about interactive tables.';\n",
              "          element.innerHTML = '';\n",
              "          dataTable['output_type'] = 'display_data';\n",
              "          await google.colab.output.renderOutput(dataTable, element);\n",
              "          const docLink = document.createElement('div');\n",
              "          docLink.innerHTML = docLinkHtml;\n",
              "          element.appendChild(docLink);\n",
              "        }\n",
              "      </script>\n",
              "    </div>\n",
              "  </div>\n",
              "  "
            ],
            "text/plain": [
              "   Unnamed: 0  ...                                       word_stemmer\n",
              "0           2  ...  ex wife threaten suiciderec left my wife for g...\n",
              "1           3  ...  am weird don get affect by compliment if it co...\n",
              "2           4  ...  final is almost over so can never hear ha been...\n",
              "3           8  ...               need helpjust help me im cri so hard\n",
              "4           9  ...  so losthello my name is adam and ve been strug...\n",
              "5          11  ...  honetli idki dont know what im even do here ju...\n",
              "6          12  ...  trigger warn excus for self inflict burn do kn...\n",
              "7          13  ...               it end tonight can do it anymor quit\n",
              "8          16  ...  everyon want to be edgi and it make me self co...\n",
              "9          18  ...  my life is over at year oldhello all am year o...\n",
              "\n",
              "[10 rows x 6 columns]"
            ]
          },
          "execution_count": 24,
          "metadata": {},
          "output_type": "execute_result"
        }
      ],
      "source": [
        "suicide_dt.head(10)"
      ]
    },
    {
      "cell_type": "markdown",
      "metadata": {
        "id": "KdH7LK3Rccu1"
      },
      "source": [
        "#Label Encoding"
      ]
    },
    {
      "cell_type": "code",
      "execution_count": null,
      "metadata": {
        "colab": {
          "base_uri": "https://localhost:8080/",
          "height": 354
        },
        "id": "ELGvpc6dj0dV",
        "outputId": "de2d3177-1a99-47f1-fba0-d74371070ed5"
      },
      "outputs": [
        {
          "data": {
            "text/html": [
              "\n",
              "  <div id=\"df-9a74008f-d371-4803-b2ed-b6dabe943f8f\">\n",
              "    <div class=\"colab-df-container\">\n",
              "      <div>\n",
              "<style scoped>\n",
              "    .dataframe tbody tr th:only-of-type {\n",
              "        vertical-align: middle;\n",
              "    }\n",
              "\n",
              "    .dataframe tbody tr th {\n",
              "        vertical-align: top;\n",
              "    }\n",
              "\n",
              "    .dataframe thead th {\n",
              "        text-align: right;\n",
              "    }\n",
              "</style>\n",
              "<table border=\"1\" class=\"dataframe\">\n",
              "  <thead>\n",
              "    <tr style=\"text-align: right;\">\n",
              "      <th></th>\n",
              "      <th>Unnamed: 0</th>\n",
              "      <th>text</th>\n",
              "      <th>class</th>\n",
              "      <th>list_subreddit</th>\n",
              "      <th>tokenized_words</th>\n",
              "      <th>word_stemmer</th>\n",
              "      <th>target_variable</th>\n",
              "    </tr>\n",
              "  </thead>\n",
              "  <tbody>\n",
              "    <tr>\n",
              "      <th>0</th>\n",
              "      <td>2</td>\n",
              "      <td>Ex Wife Threatening SuicideRecently I left my ...</td>\n",
              "      <td>suicide</td>\n",
              "      <td>ex wife threatening suiciderecently left my wi...</td>\n",
              "      <td>[ex, wife, threatening, suiciderecently, left,...</td>\n",
              "      <td>ex wife threaten suiciderec left my wife for g...</td>\n",
              "      <td>1</td>\n",
              "    </tr>\n",
              "    <tr>\n",
              "      <th>1</th>\n",
              "      <td>3</td>\n",
              "      <td>Am I weird I don't get affected by compliments...</td>\n",
              "      <td>non-suicide</td>\n",
              "      <td>am weird don get affected by compliments if it...</td>\n",
              "      <td>[am, weird, don, get, affected, by, compliment...</td>\n",
              "      <td>am weird don get affect by compliment if it co...</td>\n",
              "      <td>0</td>\n",
              "    </tr>\n",
              "    <tr>\n",
              "      <th>2</th>\n",
              "      <td>4</td>\n",
              "      <td>Finally 2020 is almost over... So I can never ...</td>\n",
              "      <td>non-suicide</td>\n",
              "      <td>finally      is almost over    so can never he...</td>\n",
              "      <td>[finally, is, almost, over, so, can, never, he...</td>\n",
              "      <td>final is almost over so can never hear ha been...</td>\n",
              "      <td>0</td>\n",
              "    </tr>\n",
              "    <tr>\n",
              "      <th>3</th>\n",
              "      <td>8</td>\n",
              "      <td>i need helpjust help me im crying so hard</td>\n",
              "      <td>suicide</td>\n",
              "      <td>need helpjust help me im crying so hard</td>\n",
              "      <td>[need, helpjust, help, me, im, crying, so, hard]</td>\n",
              "      <td>need helpjust help me im cri so hard</td>\n",
              "      <td>1</td>\n",
              "    </tr>\n",
              "    <tr>\n",
              "      <th>4</th>\n",
              "      <td>9</td>\n",
              "      <td>I’m so lostHello, my name is Adam (16) and I’v...</td>\n",
              "      <td>suicide</td>\n",
              "      <td>so losthello  my name is adam      and ve bee...</td>\n",
              "      <td>[so, losthello, my, name, is, adam, and, ve, b...</td>\n",
              "      <td>so losthello my name is adam and ve been strug...</td>\n",
              "      <td>1</td>\n",
              "    </tr>\n",
              "  </tbody>\n",
              "</table>\n",
              "</div>\n",
              "      <button class=\"colab-df-convert\" onclick=\"convertToInteractive('df-9a74008f-d371-4803-b2ed-b6dabe943f8f')\"\n",
              "              title=\"Convert this dataframe to an interactive table.\"\n",
              "              style=\"display:none;\">\n",
              "        \n",
              "  <svg xmlns=\"http://www.w3.org/2000/svg\" height=\"24px\"viewBox=\"0 0 24 24\"\n",
              "       width=\"24px\">\n",
              "    <path d=\"M0 0h24v24H0V0z\" fill=\"none\"/>\n",
              "    <path d=\"M18.56 5.44l.94 2.06.94-2.06 2.06-.94-2.06-.94-.94-2.06-.94 2.06-2.06.94zm-11 1L8.5 8.5l.94-2.06 2.06-.94-2.06-.94L8.5 2.5l-.94 2.06-2.06.94zm10 10l.94 2.06.94-2.06 2.06-.94-2.06-.94-.94-2.06-.94 2.06-2.06.94z\"/><path d=\"M17.41 7.96l-1.37-1.37c-.4-.4-.92-.59-1.43-.59-.52 0-1.04.2-1.43.59L10.3 9.45l-7.72 7.72c-.78.78-.78 2.05 0 2.83L4 21.41c.39.39.9.59 1.41.59.51 0 1.02-.2 1.41-.59l7.78-7.78 2.81-2.81c.8-.78.8-2.07 0-2.86zM5.41 20L4 18.59l7.72-7.72 1.47 1.35L5.41 20z\"/>\n",
              "  </svg>\n",
              "      </button>\n",
              "      \n",
              "  <style>\n",
              "    .colab-df-container {\n",
              "      display:flex;\n",
              "      flex-wrap:wrap;\n",
              "      gap: 12px;\n",
              "    }\n",
              "\n",
              "    .colab-df-convert {\n",
              "      background-color: #E8F0FE;\n",
              "      border: none;\n",
              "      border-radius: 50%;\n",
              "      cursor: pointer;\n",
              "      display: none;\n",
              "      fill: #1967D2;\n",
              "      height: 32px;\n",
              "      padding: 0 0 0 0;\n",
              "      width: 32px;\n",
              "    }\n",
              "\n",
              "    .colab-df-convert:hover {\n",
              "      background-color: #E2EBFA;\n",
              "      box-shadow: 0px 1px 2px rgba(60, 64, 67, 0.3), 0px 1px 3px 1px rgba(60, 64, 67, 0.15);\n",
              "      fill: #174EA6;\n",
              "    }\n",
              "\n",
              "    [theme=dark] .colab-df-convert {\n",
              "      background-color: #3B4455;\n",
              "      fill: #D2E3FC;\n",
              "    }\n",
              "\n",
              "    [theme=dark] .colab-df-convert:hover {\n",
              "      background-color: #434B5C;\n",
              "      box-shadow: 0px 1px 3px 1px rgba(0, 0, 0, 0.15);\n",
              "      filter: drop-shadow(0px 1px 2px rgba(0, 0, 0, 0.3));\n",
              "      fill: #FFFFFF;\n",
              "    }\n",
              "  </style>\n",
              "\n",
              "      <script>\n",
              "        const buttonEl =\n",
              "          document.querySelector('#df-9a74008f-d371-4803-b2ed-b6dabe943f8f button.colab-df-convert');\n",
              "        buttonEl.style.display =\n",
              "          google.colab.kernel.accessAllowed ? 'block' : 'none';\n",
              "\n",
              "        async function convertToInteractive(key) {\n",
              "          const element = document.querySelector('#df-9a74008f-d371-4803-b2ed-b6dabe943f8f');\n",
              "          const dataTable =\n",
              "            await google.colab.kernel.invokeFunction('convertToInteractive',\n",
              "                                                     [key], {});\n",
              "          if (!dataTable) return;\n",
              "\n",
              "          const docLinkHtml = 'Like what you see? Visit the ' +\n",
              "            '<a target=\"_blank\" href=https://colab.research.google.com/notebooks/data_table.ipynb>data table notebook</a>'\n",
              "            + ' to learn more about interactive tables.';\n",
              "          element.innerHTML = '';\n",
              "          dataTable['output_type'] = 'display_data';\n",
              "          await google.colab.output.renderOutput(dataTable, element);\n",
              "          const docLink = document.createElement('div');\n",
              "          docLink.innerHTML = docLinkHtml;\n",
              "          element.appendChild(docLink);\n",
              "        }\n",
              "      </script>\n",
              "    </div>\n",
              "  </div>\n",
              "  "
            ],
            "text/plain": [
              "   Unnamed: 0  ... target_variable\n",
              "0           2  ...               1\n",
              "1           3  ...               0\n",
              "2           4  ...               0\n",
              "3           8  ...               1\n",
              "4           9  ...               1\n",
              "\n",
              "[5 rows x 7 columns]"
            ]
          },
          "execution_count": 25,
          "metadata": {},
          "output_type": "execute_result"
        }
      ],
      "source": [
        "#Label Encoding refers to converting the labels into a numeric form \n",
        "#https://www.geeksforgeeks.org/ml-label-encoding-of-datasets-in-python/\n",
        "\n",
        "from sklearn import preprocessing\n",
        "\n",
        "label_encoder = preprocessing.LabelEncoder()\n",
        "\n",
        "suicide_dt['target_variable']= label_encoder.fit_transform(suicide_dt['class'])\n",
        "\n",
        "suicide_dt.head()"
      ]
    },
    {
      "cell_type": "markdown",
      "metadata": {
        "id": "n-h9SJPZchpw"
      },
      "source": [
        "#Persisting The Dataset"
      ]
    },
    {
      "cell_type": "code",
      "execution_count": null,
      "metadata": {
        "id": "RIMvSEiwj0gZ"
      },
      "outputs": [],
      "source": [
        "#using pickle to load our dataset faster\n",
        "with open('suicide_pickle.pickle', 'wb') as f: # we are creating pickle files for Suicide_dt, wb is for bytes\n",
        "    pickle.dump(suicide_dt,f)\n",
        "    \n",
        "with open('suicide_pickle.pickle', 'rb') as f:\n",
        "    p_suicide_dt = pickle.load(f)"
      ]
    },
    {
      "cell_type": "code",
      "execution_count": null,
      "metadata": {
        "id": "AGUMuKIAj0jK"
      },
      "outputs": [],
      "source": [
        "#Spliting document and target variable into different variables\n",
        "X = p_suicide_dt['word_stemmer']\n",
        "Y = p_suicide_dt['target_variable']"
      ]
    },
    {
      "cell_type": "code",
      "execution_count": null,
      "metadata": {
        "colab": {
          "base_uri": "https://localhost:8080/"
        },
        "id": "ycx7_X16j0mJ",
        "outputId": "4c9a147b-7971-4dd3-ef0b-5d07d0ef92bf"
      },
      "outputs": [
        {
          "data": {
            "text/plain": [
              "0    ex wife threaten suiciderec left my wife for g...\n",
              "1    am weird don get affect by compliment if it co...\n",
              "2    final is almost over so can never hear ha been...\n",
              "3                 need helpjust help me im cri so hard\n",
              "4    so losthello my name is adam and ve been strug...\n",
              "Name: word_stemmer, dtype: object"
            ]
          },
          "execution_count": 28,
          "metadata": {},
          "output_type": "execute_result"
        }
      ],
      "source": [
        "X.head()"
      ]
    },
    {
      "cell_type": "code",
      "execution_count": null,
      "metadata": {
        "colab": {
          "base_uri": "https://localhost:8080/"
        },
        "id": "4u1Zc9ckj0pc",
        "outputId": "b65730bc-4e7a-4ace-d4a4-50d880f683cd"
      },
      "outputs": [
        {
          "data": {
            "text/plain": [
              "0    1\n",
              "1    0\n",
              "2    0\n",
              "3    1\n",
              "4    1\n",
              "Name: target_variable, dtype: int64"
            ]
          },
          "execution_count": 29,
          "metadata": {},
          "output_type": "execute_result"
        }
      ],
      "source": [
        "Y.head()"
      ]
    },
    {
      "cell_type": "markdown",
      "metadata": {
        "id": "Ks7h0qIVcuKF"
      },
      "source": [
        "**Spliting Into Train and Test**"
      ]
    },
    {
      "cell_type": "code",
      "execution_count": null,
      "metadata": {
        "id": "sDLk_2ALj0sg"
      },
      "outputs": [],
      "source": [
        "\n",
        "#text_train is to train our data, text_test is our test data\n",
        "#sent_train is our classes associated with text_train, similar for sent_test\n",
        "text_train, text_test, sent_train, sent_test = train_test_split(X,Y,test_size=0.33,random_state=0)"
      ]
    },
    {
      "cell_type": "markdown",
      "metadata": {
        "id": "TkOlCrRfcp2r"
      },
      "source": [
        "#Build Model for Suicide classification"
      ]
    },
    {
      "cell_type": "markdown",
      "metadata": {
        "id": "u7-VouXuc3Ij"
      },
      "source": [
        "**1. Bag Of Words (BOW)**"
      ]
    },
    {
      "cell_type": "code",
      "execution_count": null,
      "metadata": {
        "colab": {
          "base_uri": "https://localhost:8080/"
        },
        "id": "-07CdAm2j_DF",
        "outputId": "0ce2e72e-8c78-4ec2-e740-c437cfe76e13"
      },
      "outputs": [
        {
          "name": "stdout",
          "output_type": "stream",
          "text": [
            "(155489, 97830)\n"
          ]
        }
      ],
      "source": [
        "import sklearn\n",
        "vectorizer = sklearn.feature_extraction.text.CountVectorizer(binary=False,ngram_range=(1,1))\n",
        "tf_features_train = vectorizer.fit_transform(text_train)\n",
        "tf_features_test = vectorizer.transform(text_test)\n",
        "print (tf_features_train.shape)"
      ]
    },
    {
      "cell_type": "markdown",
      "metadata": {
        "id": "jqOCPzmyc_WA"
      },
      "source": [
        "#Model Training For Bag Of Words (BOW)"
      ]
    },
    {
      "cell_type": "markdown",
      "metadata": {
        "id": "HuHxzgZidFQt"
      },
      "source": [
        "**1. Logistic Regression for BOW**"
      ]
    },
    {
      "cell_type": "code",
      "execution_count": null,
      "metadata": {
        "id": "MbJnxaHZj_I6"
      },
      "outputs": [],
      "source": [
        "classifier = LogisticRegression()\n",
        "classifier.fit(tf_features_train, sent_train)"
      ]
    },
    {
      "cell_type": "code",
      "execution_count": null,
      "metadata": {
        "id": "9nRmYPITj_MB"
      },
      "outputs": [],
      "source": [
        "lrbow_predictions = classifier.predict(tf_features_test)"
      ]
    },
    {
      "cell_type": "code",
      "execution_count": null,
      "metadata": {
        "colab": {
          "base_uri": "https://localhost:8080/"
        },
        "id": "-0RmHYjbj_PI",
        "outputId": "ef4e88d7-0148-4fa6-d0e0-c901412cd562"
      },
      "outputs": [
        {
          "data": {
            "text/plain": [
              "0.9294639942547496"
            ]
          },
          "execution_count": 34,
          "metadata": {},
          "output_type": "execute_result"
        }
      ],
      "source": [
        "from sklearn.metrics import accuracy_score\n",
        "dt_ac = accuracy_score(sent_test,lrbow_predictions) \n",
        "dt_ac"
      ]
    },
    {
      "cell_type": "code",
      "execution_count": null,
      "metadata": {
        "colab": {
          "base_uri": "https://localhost:8080/"
        },
        "id": "Lerx6izWj_R4",
        "outputId": "8d4b4ff3-3be9-45d6-e989-4cc7f3f9f908"
      },
      "outputs": [
        {
          "name": "stdout",
          "output_type": "stream",
          "text": [
            "[[36526  1836]\n",
            " [ 3566 34657]]\n",
            "              precision    recall  f1-score   support\n",
            "\n",
            "           0       0.91      0.95      0.93     38362\n",
            "           1       0.95      0.91      0.93     38223\n",
            "\n",
            "    accuracy                           0.93     76585\n",
            "   macro avg       0.93      0.93      0.93     76585\n",
            "weighted avg       0.93      0.93      0.93     76585\n",
            "\n",
            "0.9294639942547496\n"
          ]
        }
      ],
      "source": [
        "from sklearn.metrics import classification_report, confusion_matrix\n",
        "print(confusion_matrix(sent_test,lrbow_predictions))\n",
        "print(classification_report(sent_test,lrbow_predictions))\n",
        "print(accuracy_score(sent_test, lrbow_predictions))"
      ]
    },
    {
      "cell_type": "code",
      "execution_count": null,
      "metadata": {
        "colab": {
          "base_uri": "https://localhost:8080/"
        },
        "id": "1rejxRvendSY",
        "outputId": "d5573bd4-8ce2-40a7-e363-aa54da8429ac"
      },
      "outputs": [
        {
          "data": {
            "text/plain": [
              "array([1, 0])"
            ]
          },
          "execution_count": 36,
          "metadata": {},
          "output_type": "execute_result"
        }
      ],
      "source": [
        "sent_train.unique() "
      ]
    },
    {
      "cell_type": "code",
      "execution_count": null,
      "metadata": {
        "colab": {
          "base_uri": "https://localhost:8080/"
        },
        "id": "MyVZcV4om-Jj",
        "outputId": "21acbd5c-f375-4020-a14b-10a36f8e31ce"
      },
      "outputs": [
        {
          "data": {
            "text/plain": [
              "array([[36526,  1836],\n",
              "       [ 3566, 34657]])"
            ]
          },
          "execution_count": 37,
          "metadata": {},
          "output_type": "execute_result"
        }
      ],
      "source": [
        "confusion_matrix(sent_test,lrbow_predictions)"
      ]
    },
    {
      "cell_type": "code",
      "execution_count": null,
      "metadata": {
        "colab": {
          "base_uri": "https://localhost:8080/"
        },
        "id": "nJXOHEG_m-bT",
        "outputId": "a57e7249-b6e3-4567-a9e3-19e43410cdb3"
      },
      "outputs": [
        {
          "data": {
            "text/plain": [
              "array([0, 1])"
            ]
          },
          "execution_count": 38,
          "metadata": {},
          "output_type": "execute_result"
        }
      ],
      "source": [
        "unique_labels(sent_test) #There are 2 unique categories in this classification problem and that is why we have 2 rows and 2 columns"
      ]
    },
    {
      "cell_type": "code",
      "execution_count": null,
      "metadata": {
        "id": "oQ493SOXvuhc"
      },
      "outputs": [],
      "source": [
        "def plot(y_true, y_pred):\n",
        "  labels = unique_labels(sent_test)\n",
        "  cloumn = ['Predicted' for label in labels]\n",
        "  indices = ['Actual' for label in labels]\n",
        "  table = pd.DataFrame(confusion_matrix(y_true, y_pred),\n",
        "                       columns=cloumn,index = indices)\n",
        "  return sns.heatmap(table, annot=True, fmt='d',cmap='viridis')"
      ]
    },
    {
      "cell_type": "code",
      "execution_count": null,
      "metadata": {
        "colab": {
          "base_uri": "https://localhost:8080/",
          "height": 287
        },
        "id": "SNTVHX0RvumC",
        "outputId": "e63bae64-c43f-4818-c25b-23fdea8edb3f"
      },
      "outputs": [
        {
          "data": {
            "image/png": "[encoded data removed]",
            "text/plain": [
              "<Figure size 432x288 with 2 Axes>"
            ]
          },
          "metadata": {},
          "output_type": "display_data"
        }
      ],
      "source": [
        "plt.rcParams[\"axes.grid\"] = False\n",
        "plt.rcParams[\"font.size\"]= 14\n",
        "plt.title(\"Confusion Matrix\", fontsize= 15)\n",
        "plot(sent_test,lrbow_predictions)\n",
        "plt.show()"
      ]
    },
    {
      "cell_type": "markdown",
      "metadata": {
        "id": "TdthqdlTdNMZ"
      },
      "source": [
        "**2. Decision Tree for BOW**"
      ]
    },
    {
      "cell_type": "code",
      "execution_count": null,
      "metadata": {
        "colab": {
          "background_save": true
        },
        "id": "Cu3CfcRTj_Yr",
        "outputId": "a8fe3fc7-78fd-42a1-9719-0d69a4f99dde"
      },
      "outputs": [
        {
          "data": {
            "text/plain": [
              "DecisionTreeClassifier()"
            ]
          },
          "execution_count": null,
          "metadata": {},
          "output_type": "execute_result"
        }
      ],
      "source": [
        "dt_classifer = DecisionTreeClassifier()\n",
        "#training\n",
        "dt_classifer.fit(tf_features_train,sent_train) #training data and training label (target variable)"
      ]
    },
    {
      "cell_type": "code",
      "execution_count": null,
      "metadata": {
        "colab": {
          "background_save": true
        },
        "id": "ImT4TjKAj_bZ"
      },
      "outputs": [],
      "source": [
        "dtbow_predictions = dt_classifer.predict(tf_features_test)"
      ]
    },
    {
      "cell_type": "code",
      "execution_count": null,
      "metadata": {
        "colab": {
          "background_save": true
        },
        "id": "7eZixL1Btcus",
        "outputId": "5e98b43a-cd8f-473c-9d1c-3703a89c5ad8"
      },
      "outputs": [
        {
          "data": {
            "text/plain": [
              "0.8609910556897565"
            ]
          },
          "execution_count": null,
          "metadata": {},
          "output_type": "execute_result"
        }
      ],
      "source": [
        "dt_ac = accuracy_score(sent_test,dtbow_predictions) \n",
        "dt_ac"
      ]
    },
    {
      "cell_type": "code",
      "execution_count": null,
      "metadata": {
        "colab": {
          "background_save": true
        },
        "id": "QApeFTyEtcx1",
        "outputId": "0414d813-d8c0-4c97-f5ca-12c679c538f1"
      },
      "outputs": [
        {
          "name": "stdout",
          "output_type": "stream",
          "text": [
            "[[33096  5266]\n",
            " [ 5380 32843]]\n",
            "              precision    recall  f1-score   support\n",
            "\n",
            "           0       0.86      0.86      0.86     38362\n",
            "           1       0.86      0.86      0.86     38223\n",
            "\n",
            "    accuracy                           0.86     76585\n",
            "   macro avg       0.86      0.86      0.86     76585\n",
            "weighted avg       0.86      0.86      0.86     76585\n",
            "\n",
            "0.8609910556897565\n"
          ]
        }
      ],
      "source": [
        "\n",
        "print(confusion_matrix(sent_test,dtbow_predictions))\n",
        "print(classification_report(sent_test,dtbow_predictions))\n",
        "print(accuracy_score(sent_test, dtbow_predictions))"
      ]
    },
    {
      "cell_type": "code",
      "execution_count": null,
      "metadata": {
        "colab": {
          "background_save": true
        },
        "id": "XRCE1AQYtc1q"
      },
      "outputs": [],
      "source": [
        "def plot(y_true, y_pred):\n",
        "  labels = unique_labels(sent_test)\n",
        "  cloumn = ['Predicted' for label in labels]\n",
        "  indices = ['Actual' for label in labels]\n",
        "  table = pd.DataFrame(confusion_matrix(y_true, y_pred),\n",
        "                       columns=cloumn,index = indices)\n",
        "  return sns.heatmap(table, annot=True, fmt='d',cmap='viridis')"
      ]
    },
    {
      "cell_type": "code",
      "execution_count": null,
      "metadata": {
        "colab": {
          "background_save": true
        },
        "id": "sPPmZahMm6eL",
        "outputId": "f5875681-a284-4332-f44c-f42c68b87394"
      },
      "outputs": [
        {
          "data": {
            "image/png": "[encoded data removed]",
            "text/plain": [
              "<Figure size 432x288 with 2 Axes>"
            ]
          },
          "metadata": {},
          "output_type": "display_data"
        }
      ],
      "source": [
        "plt.rcParams[\"axes.grid\"] = False\n",
        "plt.rcParams[\"font.size\"]= 14\n",
        "plt.title(\"Confusion Matrix\", fontsize= 15)\n",
        "plot(sent_test,dtbow_predictions)\n",
        "plt.show()"
      ]
    },
    {
      "cell_type": "markdown",
      "metadata": {
        "id": "NBeEERBDdVX_"
      },
      "source": [
        "**3. Random Forest for BOW**"
      ]
    },
    {
      "cell_type": "code",
      "execution_count": null,
      "metadata": {
        "colab": {
          "background_save": true
        },
        "id": "v_GavwAVtc5R",
        "outputId": "ca5ab082-348f-463b-f628-7642d33a8638"
      },
      "outputs": [
        {
          "data": {
            "text/plain": [
              "RandomForestClassifier()"
            ]
          },
          "execution_count": null,
          "metadata": {},
          "output_type": "execute_result"
        }
      ],
      "source": [
        "from sklearn.ensemble import RandomForestClassifier\n",
        "\n",
        "forest_classifier = RandomForestClassifier()\n",
        "forest_classifier.fit(tf_features_train,sent_train)"
      ]
    },
    {
      "cell_type": "code",
      "execution_count": null,
      "metadata": {
        "colab": {
          "background_save": true
        },
        "id": "TEvH7PU_tc9R"
      },
      "outputs": [],
      "source": [
        "forestBow_predictions = forest_classifier.predict(tf_features_test)"
      ]
    },
    {
      "cell_type": "code",
      "execution_count": null,
      "metadata": {
        "colab": {
          "background_save": true
        },
        "id": "MlPHTD7hvkGz",
        "outputId": "5e090292-b70f-4d06-9232-d1f067a82289"
      },
      "outputs": [
        {
          "data": {
            "text/plain": [
              "0.8834758764771169"
            ]
          },
          "execution_count": null,
          "metadata": {},
          "output_type": "execute_result"
        }
      ],
      "source": [
        "forest_ac = accuracy_score(sent_test,forestBow_predictions) \n",
        "forest_ac"
      ]
    },
    {
      "cell_type": "code",
      "execution_count": null,
      "metadata": {
        "colab": {
          "background_save": true
        },
        "id": "aobF6C71vkMT",
        "outputId": "588aaae9-b461-493b-f43c-ec0ed3084620"
      },
      "outputs": [
        {
          "name": "stdout",
          "output_type": "stream",
          "text": [
            "[[33508  4854]\n",
            " [ 4070 34153]]\n",
            "              precision    recall  f1-score   support\n",
            "\n",
            "           0       0.89      0.87      0.88     38362\n",
            "           1       0.88      0.89      0.88     38223\n",
            "\n",
            "    accuracy                           0.88     76585\n",
            "   macro avg       0.88      0.88      0.88     76585\n",
            "weighted avg       0.88      0.88      0.88     76585\n",
            "\n",
            "0.8834758764771169\n"
          ]
        }
      ],
      "source": [
        "from sklearn.metrics import classification_report, confusion_matrix\n",
        "print(confusion_matrix(sent_test,forestBow_predictions))\n",
        "print(classification_report(sent_test,forestBow_predictions))\n",
        "print(accuracy_score(sent_test, forestBow_predictions))"
      ]
    },
    {
      "cell_type": "code",
      "execution_count": null,
      "metadata": {
        "colab": {
          "background_save": true
        },
        "id": "TTYUxneovkT2"
      },
      "outputs": [],
      "source": [
        "def plot(y_true, y_pred):\n",
        "  labels = unique_labels(sent_test)\n",
        "  cloumn = ['Predicted' for label in labels]\n",
        "  indices = ['Actual' for label in labels]\n",
        "  table = pd.DataFrame(confusion_matrix(y_true, y_pred),\n",
        "                       columns=cloumn,index = indices)\n",
        "  return sns.heatmap(table, annot=True, fmt='d',cmap='viridis')"
      ]
    },
    {
      "cell_type": "code",
      "execution_count": null,
      "metadata": {
        "colab": {
          "background_save": true
        },
        "id": "-5IfF0Qee8py",
        "outputId": "b136ea7c-8518-4128-8a78-d51cc9dd92fc"
      },
      "outputs": [
        {
          "data": {
            "image/png": "[encoded data removed]",
            "text/plain": [
              "<Figure size 432x288 with 2 Axes>"
            ]
          },
          "metadata": {},
          "output_type": "display_data"
        }
      ],
      "source": [
        "plt.rcParams[\"axes.grid\"] = False\n",
        "plt.rcParams[\"font.size\"]= 14\n",
        "plt.title(\"Confusion Matrix\", fontsize= 15)\n",
        "plot(sent_test,forestBow_predictions)\n",
        "plt.show()"
      ]
    },
    {
      "cell_type": "markdown",
      "metadata": {
        "id": "nHZysznEdade"
      },
      "source": [
        "**4. Naive Bayes for BOW**"
      ]
    },
    {
      "cell_type": "code",
      "execution_count": null,
      "metadata": {
        "colab": {
          "background_save": true
        },
        "id": "XbwjqsGKvpFb"
      },
      "outputs": [],
      "source": [
        "from sklearn.naive_bayes import MultinomialNB\n",
        "naive_classifer = MultinomialNB()\n",
        "naive_classifer = naive_classifer.fit(tf_features_train,sent_train)"
      ]
    },
    {
      "cell_type": "code",
      "execution_count": null,
      "metadata": {
        "colab": {
          "background_save": true
        },
        "id": "YcMPg3PLvpJA"
      },
      "outputs": [],
      "source": [
        "naiveBow_predictions = naive_classifer.predict(tf_features_test)"
      ]
    },
    {
      "cell_type": "code",
      "execution_count": null,
      "metadata": {
        "colab": {
          "background_save": true
        },
        "id": "7WUeIFPVvpMm",
        "outputId": "d7ed5651-f262-4d1e-d3f2-60fc5532113a"
      },
      "outputs": [
        {
          "data": {
            "text/plain": [
              "0.8958151073970099"
            ]
          },
          "execution_count": null,
          "metadata": {},
          "output_type": "execute_result"
        }
      ],
      "source": [
        "naive_ac = accuracy_score(sent_test,naiveBow_predictions) \n",
        "naive_ac"
      ]
    },
    {
      "cell_type": "code",
      "execution_count": null,
      "metadata": {
        "colab": {
          "background_save": true
        },
        "id": "Lr4HrH65vpRX",
        "outputId": "f985349e-30dc-4996-e95d-7cf0b1268f46"
      },
      "outputs": [
        {
          "name": "stdout",
          "output_type": "stream",
          "text": [
            "[[31892  6470]\n",
            " [ 1509 36714]]\n",
            "              precision    recall  f1-score   support\n",
            "\n",
            "           0       0.95      0.83      0.89     38362\n",
            "           1       0.85      0.96      0.90     38223\n",
            "\n",
            "    accuracy                           0.90     76585\n",
            "   macro avg       0.90      0.90      0.90     76585\n",
            "weighted avg       0.90      0.90      0.90     76585\n",
            "\n",
            "0.8958151073970099\n"
          ]
        }
      ],
      "source": [
        "\n",
        "print(confusion_matrix(sent_test,naiveBow_predictions))\n",
        "print(classification_report(sent_test,naiveBow_predictions))\n",
        "print(accuracy_score(sent_test, naiveBow_predictions))"
      ]
    },
    {
      "cell_type": "code",
      "execution_count": null,
      "metadata": {
        "colab": {
          "background_save": true
        },
        "id": "2JnuTJQavwFu"
      },
      "outputs": [],
      "source": [
        "def plot(y_true, y_pred):\n",
        "  labels = unique_labels(sent_test)\n",
        "  cloumn = ['Predicted' for label in labels]\n",
        "  indices = ['Actual' for label in labels]\n",
        "  table = pd.DataFrame(confusion_matrix(y_true, y_pred),\n",
        "                       columns=cloumn,index = indices)\n",
        "  return sns.heatmap(table, annot=True, fmt='d',cmap='viridis')"
      ]
    },
    {
      "cell_type": "code",
      "execution_count": null,
      "metadata": {
        "colab": {
          "background_save": true
        },
        "id": "uUp5NrlbfJWQ",
        "outputId": "71b5c487-cd29-4e2c-cab8-f39ce6f0fd2e"
      },
      "outputs": [
        {
          "data": {
            "image/png": "[encoded data removed]",
            "text/plain": [
              "<Figure size 432x288 with 2 Axes>"
            ]
          },
          "metadata": {},
          "output_type": "display_data"
        }
      ],
      "source": [
        "plt.rcParams[\"axes.grid\"] = False\n",
        "plt.rcParams[\"font.size\"]= 14\n",
        "plt.title(\"Confusion Matrix\", fontsize= 15)\n",
        "plot(sent_test,naiveBow_predictions)\n",
        "plt.show()"
      ]
    },
    {
      "cell_type": "markdown",
      "metadata": {
        "id": "U0KbBq7F62kb"
      },
      "source": [
        "**2. TF-IDF**"
      ]
    },
    {
      "cell_type": "code",
      "execution_count": null,
      "metadata": {
        "colab": {
          "background_save": true
        },
        "id": "2Vcb6P8GvwJy",
        "outputId": "cc992ed3-dda9-405d-f321-60ec90dd636a"
      },
      "outputs": [
        {
          "name": "stdout",
          "output_type": "stream",
          "text": [
            "(155489, 97830)\n"
          ]
        }
      ],
      "source": [
        "import sklearn\n",
        "vectorizer = sklearn.feature_extraction.text.TfidfVectorizer(binary=False,ngram_range=(1,1))\n",
        "tf_features_train = vectorizer.fit_transform(text_train)\n",
        "tf_features_test = vectorizer.transform(text_test)\n",
        "print (tf_features_train.shape)"
      ]
    },
    {
      "cell_type": "markdown",
      "metadata": {
        "id": "JQTiEMGbd1Xf"
      },
      "source": [
        "# Model Training For TF-IDF"
      ]
    },
    {
      "cell_type": "markdown",
      "metadata": {
        "id": "mS3anSQKd7hT"
      },
      "source": [
        "**1. Logistic Regression for TF-IDF**"
      ]
    },
    {
      "cell_type": "code",
      "execution_count": null,
      "metadata": {
        "colab": {
          "background_save": true
        },
        "id": "lUBVtLomvwOD"
      },
      "outputs": [],
      "source": [
        "classifier = LogisticRegression()\n",
        "classifier.fit(tf_features_train, sent_train)"
      ]
    },
    {
      "cell_type": "code",
      "execution_count": null,
      "metadata": {
        "colab": {
          "background_save": true
        },
        "id": "AdOmCd5kvwRg"
      },
      "outputs": [],
      "source": [
        "lrTfidf_predictions = classifier.predict(tf_features_test)"
      ]
    },
    {
      "cell_type": "code",
      "execution_count": null,
      "metadata": {
        "colab": {
          "background_save": true
        },
        "id": "TZq3dVRZvwU8",
        "outputId": "bcc23fd2-abdd-426f-de10-a3ca9d3c702e"
      },
      "outputs": [
        {
          "data": {
            "text/plain": [
              "0.9367630737089508"
            ]
          },
          "execution_count": null,
          "metadata": {},
          "output_type": "execute_result"
        }
      ],
      "source": [
        "from sklearn.metrics import accuracy_score\n",
        "dt_ac = accuracy_score(sent_test,lrTfidf_predictions) \n",
        "dt_ac"
      ]
    },
    {
      "cell_type": "code",
      "execution_count": null,
      "metadata": {
        "colab": {
          "background_save": true
        },
        "id": "RC_jG41B6MGR",
        "outputId": "cf4cd934-1a77-48e4-b2c4-2e508907fddf"
      },
      "outputs": [
        {
          "name": "stdout",
          "output_type": "stream",
          "text": [
            "[[36188  2174]\n",
            " [ 2669 35554]]\n",
            "              precision    recall  f1-score   support\n",
            "\n",
            "           0       0.93      0.94      0.94     38362\n",
            "           1       0.94      0.93      0.94     38223\n",
            "\n",
            "    accuracy                           0.94     76585\n",
            "   macro avg       0.94      0.94      0.94     76585\n",
            "weighted avg       0.94      0.94      0.94     76585\n",
            "\n",
            "0.9367630737089508\n"
          ]
        }
      ],
      "source": [
        "\n",
        "print(confusion_matrix(sent_test,lrTfidf_predictions))\n",
        "print(classification_report(sent_test,lrTfidf_predictions))\n",
        "print(accuracy_score(sent_test, lrTfidf_predictions))"
      ]
    },
    {
      "cell_type": "code",
      "execution_count": null,
      "metadata": {
        "colab": {
          "background_save": true
        },
        "id": "vcXZibksfgs2"
      },
      "outputs": [],
      "source": [
        "def plot(y_true, y_pred):\n",
        "  labels = unique_labels(sent_test)\n",
        "  cloumn = ['Predicted' for label in labels]\n",
        "  indices = ['Actual' for label in labels]\n",
        "  table = pd.DataFrame(confusion_matrix(y_true, y_pred),\n",
        "                       columns=cloumn,index = indices)\n",
        "  return sns.heatmap(table, annot=True, fmt='d',cmap='viridis')"
      ]
    },
    {
      "cell_type": "code",
      "execution_count": null,
      "metadata": {
        "colab": {
          "background_save": true
        },
        "id": "xwxHIWfQfgyt",
        "outputId": "f065ccb6-bb57-4250-e667-c62c1e19085d"
      },
      "outputs": [
        {
          "data": {
            "image/png": "[encoded data removed]",
            "text/plain": [
              "<Figure size 432x288 with 2 Axes>"
            ]
          },
          "metadata": {},
          "output_type": "display_data"
        }
      ],
      "source": [
        "plt.rcParams[\"axes.grid\"] = False\n",
        "plt.rcParams[\"font.size\"]= 14\n",
        "plt.title(\"Confusion Matrix\", fontsize= 15)\n",
        "plot(sent_test,lrTfidf_predictions)\n",
        "plt.show()"
      ]
    },
    {
      "cell_type": "markdown",
      "metadata": {
        "id": "vGVQCabceD8E"
      },
      "source": [
        "**2. Decision Tree for TF-IDF**"
      ]
    },
    {
      "cell_type": "code",
      "execution_count": null,
      "metadata": {
        "colab": {
          "background_save": true
        },
        "id": "CUIP2Ec56tlI",
        "outputId": "9a38b6f8-b929-4a0d-959c-27a6beae8cea"
      },
      "outputs": [
        {
          "data": {
            "text/plain": [
              "DecisionTreeClassifier()"
            ]
          },
          "execution_count": null,
          "metadata": {},
          "output_type": "execute_result"
        }
      ],
      "source": [
        "dt_classifer = DecisionTreeClassifier()\n",
        "#training\n",
        "dt_classifer.fit(tf_features_train,sent_train) #training data and training label (target variable)"
      ]
    },
    {
      "cell_type": "markdown",
      "metadata": {
        "id": "aUcnmoEF60CU"
      },
      "source": [
        ""
      ]
    },
    {
      "cell_type": "code",
      "execution_count": null,
      "metadata": {
        "colab": {
          "background_save": true
        },
        "id": "Cj86RiyP6tpJ"
      },
      "outputs": [],
      "source": [
        "dtTfidf_predictions = dt_classifer.predict(tf_features_test)"
      ]
    },
    {
      "cell_type": "code",
      "execution_count": null,
      "metadata": {
        "colab": {
          "background_save": true
        },
        "id": "gJMltpTm6ttM",
        "outputId": "3b7ce79d-edf0-4ebf-fc87-4e1f03d9684f"
      },
      "outputs": [
        {
          "data": {
            "text/plain": [
              "0.8565515440360384"
            ]
          },
          "execution_count": null,
          "metadata": {},
          "output_type": "execute_result"
        }
      ],
      "source": [
        "dt_ac = accuracy_score(sent_test,dtTfidf_predictions) \n",
        "dt_ac"
      ]
    },
    {
      "cell_type": "code",
      "execution_count": null,
      "metadata": {
        "colab": {
          "background_save": true
        },
        "id": "Xd3QFhVr6txN",
        "outputId": "0f819440-7850-42b0-f0ff-ae63d5afbfae"
      },
      "outputs": [
        {
          "name": "stdout",
          "output_type": "stream",
          "text": [
            "[[32823  5539]\n",
            " [ 5447 32776]]\n",
            "              precision    recall  f1-score   support\n",
            "\n",
            "           0       0.86      0.86      0.86     38362\n",
            "           1       0.86      0.86      0.86     38223\n",
            "\n",
            "    accuracy                           0.86     76585\n",
            "   macro avg       0.86      0.86      0.86     76585\n",
            "weighted avg       0.86      0.86      0.86     76585\n",
            "\n",
            "0.8565515440360384\n"
          ]
        }
      ],
      "source": [
        "from sklearn.metrics import classification_report, confusion_matrix\n",
        "print(confusion_matrix(sent_test,dtTfidf_predictions))\n",
        "print(classification_report(sent_test,dtTfidf_predictions))\n",
        "print(accuracy_score(sent_test, dtTfidf_predictions))"
      ]
    },
    {
      "cell_type": "code",
      "execution_count": null,
      "metadata": {
        "colab": {
          "background_save": true
        },
        "id": "3frD2Lcf7Bmy"
      },
      "outputs": [],
      "source": [
        "def plot(y_true, y_pred):\n",
        "  labels = unique_labels(sent_test)\n",
        "  cloumn = ['Predicted' for label in labels]\n",
        "  indices = ['Actual' for label in labels]\n",
        "  table = pd.DataFrame(confusion_matrix(y_true, y_pred),\n",
        "                       columns=cloumn,index = indices)\n",
        "  return sns.heatmap(table, annot=True, fmt='d',cmap='viridis')"
      ]
    },
    {
      "cell_type": "code",
      "execution_count": null,
      "metadata": {
        "colab": {
          "background_save": true
        },
        "id": "T-UVt9KAfsYI",
        "outputId": "55a3fa98-cf69-44cf-c8bc-0dadbfc741c8"
      },
      "outputs": [
        {
          "data": {
            "image/png": "[encoded data removed]",
            "text/plain": [
              "<Figure size 432x288 with 2 Axes>"
            ]
          },
          "metadata": {},
          "output_type": "display_data"
        }
      ],
      "source": [
        "plt.rcParams[\"axes.grid\"] = False\n",
        "plt.rcParams[\"font.size\"]= 14\n",
        "plt.title(\"Confusion Matrix\", fontsize= 15)\n",
        "plot(sent_test,dtTfidf_predictions)\n",
        "plt.show()"
      ]
    },
    {
      "cell_type": "markdown",
      "metadata": {
        "id": "V24eLM8QeKv_"
      },
      "source": [
        "**3. Random Forest for TF-IDF**"
      ]
    },
    {
      "cell_type": "code",
      "execution_count": null,
      "metadata": {
        "colab": {
          "background_save": true
        },
        "id": "u3Q4wA8v8vY7",
        "outputId": "7b637a27-ffa9-4d18-e71d-54de97d1c1c4"
      },
      "outputs": [
        {
          "data": {
            "text/plain": [
              "RandomForestClassifier()"
            ]
          },
          "execution_count": null,
          "metadata": {},
          "output_type": "execute_result"
        }
      ],
      "source": [
        "from sklearn.ensemble import RandomForestClassifier\n",
        "\n",
        "forest_classifier = RandomForestClassifier()\n",
        "forest_classifier.fit(tf_features_train,sent_train)"
      ]
    },
    {
      "cell_type": "code",
      "execution_count": null,
      "metadata": {
        "colab": {
          "background_save": true
        },
        "id": "tDZw8BXw8vc-"
      },
      "outputs": [],
      "source": [
        "forestTfidf_predictions = forest_classifier.predict(tf_features_test)"
      ]
    },
    {
      "cell_type": "code",
      "execution_count": null,
      "metadata": {
        "colab": {
          "background_save": true
        },
        "id": "7xUxuhRB8vhI",
        "outputId": "42481ef9-42ae-4f68-bc82-3132782f820b"
      },
      "outputs": [
        {
          "data": {
            "text/plain": [
              "0.8930991708559117"
            ]
          },
          "execution_count": null,
          "metadata": {},
          "output_type": "execute_result"
        }
      ],
      "source": [
        "forest_ac = accuracy_score(sent_test,forestTfidf_predictions) \n",
        "forest_ac"
      ]
    },
    {
      "cell_type": "code",
      "execution_count": null,
      "metadata": {
        "colab": {
          "background_save": true
        },
        "id": "18Rh_KX08vlr",
        "outputId": "fac1e8cb-89f0-4ab9-b6e1-74f722c0c7db"
      },
      "outputs": [
        {
          "name": "stdout",
          "output_type": "stream",
          "text": [
            "[[34186  4176]\n",
            " [ 4011 34212]]\n",
            "              precision    recall  f1-score   support\n",
            "\n",
            "           0       0.89      0.89      0.89     38362\n",
            "           1       0.89      0.90      0.89     38223\n",
            "\n",
            "    accuracy                           0.89     76585\n",
            "   macro avg       0.89      0.89      0.89     76585\n",
            "weighted avg       0.89      0.89      0.89     76585\n",
            "\n",
            "0.8930991708559117\n"
          ]
        }
      ],
      "source": [
        "\n",
        "print(confusion_matrix(sent_test,forestTfidf_predictions))\n",
        "print(classification_report(sent_test,forestTfidf_predictions))\n",
        "print(accuracy_score(sent_test, forestTfidf_predictions))"
      ]
    },
    {
      "cell_type": "code",
      "execution_count": null,
      "metadata": {
        "colab": {
          "background_save": true
        },
        "id": "rZimU_m5f4U5"
      },
      "outputs": [],
      "source": [
        "def plot(y_true, y_pred):\n",
        "  labels = unique_labels(sent_test)\n",
        "  cloumn = ['Predicted' for label in labels]\n",
        "  indices = ['Actual' for label in labels]\n",
        "  table = pd.DataFrame(confusion_matrix(y_true, y_pred),\n",
        "                       columns=cloumn,index = indices)\n",
        "  return sns.heatmap(table, annot=True, fmt='d',cmap='viridis')"
      ]
    },
    {
      "cell_type": "code",
      "execution_count": null,
      "metadata": {
        "colab": {
          "background_save": true
        },
        "id": "pXTChPW7f4az",
        "outputId": "cc5d9856-7216-42db-e0b3-40e1882fe04e"
      },
      "outputs": [
        {
          "data": {
            "image/png": "[encoded data removed]",
            "text/plain": [
              "<Figure size 432x288 with 2 Axes>"
            ]
          },
          "metadata": {},
          "output_type": "display_data"
        }
      ],
      "source": [
        "plt.rcParams[\"axes.grid\"] = False\n",
        "plt.rcParams[\"font.size\"]= 14\n",
        "plt.title(\"Confusion Matrix\", fontsize= 15)\n",
        "plot(sent_test,forestTfidf_predictions)\n",
        "plt.show()"
      ]
    },
    {
      "cell_type": "markdown",
      "metadata": {
        "id": "dVQcrnI1ePkk"
      },
      "source": [
        "**4. Naive Bayes for TF-IDF**"
      ]
    },
    {
      "cell_type": "code",
      "execution_count": null,
      "metadata": {
        "colab": {
          "background_save": true
        },
        "id": "7ZP5oZ7a84Uz"
      },
      "outputs": [],
      "source": [
        "from sklearn.naive_bayes import MultinomialNB\n",
        "naive_classifer = MultinomialNB()\n",
        "naive_classifer = naive_classifer.fit(tf_features_train,sent_train)"
      ]
    },
    {
      "cell_type": "code",
      "execution_count": null,
      "metadata": {
        "colab": {
          "background_save": true
        },
        "id": "fEjJSCVZ84e8"
      },
      "outputs": [],
      "source": [
        "naiveTfidf_predictions = naive_classifer.predict(tf_features_test)"
      ]
    },
    {
      "cell_type": "code",
      "execution_count": null,
      "metadata": {
        "colab": {
          "background_save": true
        },
        "id": "cjEPeiovAMP5",
        "outputId": "4d973953-f783-4433-f762-979c9fd6ab18"
      },
      "outputs": [
        {
          "data": {
            "text/plain": [
              "0.8785140693347261"
            ]
          },
          "execution_count": null,
          "metadata": {},
          "output_type": "execute_result"
        }
      ],
      "source": [
        "naive_ac = accuracy_score(sent_test,naiveTfidf_predictions) \n",
        "naive_ac"
      ]
    },
    {
      "cell_type": "code",
      "execution_count": null,
      "metadata": {
        "colab": {
          "background_save": true
        },
        "id": "BZj1FrIVAMYI",
        "outputId": "01d13522-1fd3-4c8d-9d77-0f5a3414f7b0"
      },
      "outputs": [
        {
          "name": "stdout",
          "output_type": "stream",
          "text": [
            "[[30092  8270]\n",
            " [ 1034 37189]]\n",
            "              precision    recall  f1-score   support\n",
            "\n",
            "           0       0.97      0.78      0.87     38362\n",
            "           1       0.82      0.97      0.89     38223\n",
            "\n",
            "    accuracy                           0.88     76585\n",
            "   macro avg       0.89      0.88      0.88     76585\n",
            "weighted avg       0.89      0.88      0.88     76585\n",
            "\n",
            "0.8785140693347261\n"
          ]
        }
      ],
      "source": [
        "print(confusion_matrix(sent_test,naiveTfidf_predictions))\n",
        "print(classification_report(sent_test,naiveTfidf_predictions))\n",
        "print(accuracy_score(sent_test, naiveTfidf_predictions))"
      ]
    },
    {
      "cell_type": "code",
      "execution_count": null,
      "metadata": {
        "colab": {
          "background_save": true
        },
        "id": "jT0baVLmAMfq"
      },
      "outputs": [],
      "source": [
        "def plot(y_true, y_pred):\n",
        "  labels = unique_labels(sent_test)\n",
        "  cloumn = ['Predicted' for label in labels]\n",
        "  indices = ['Actual' for label in labels]\n",
        "  table = pd.DataFrame(confusion_matrix(y_true, y_pred),\n",
        "                       columns=cloumn,index = indices)\n",
        "  return sns.heatmap(table, annot=True, fmt='d',cmap='viridis')"
      ]
    },
    {
      "cell_type": "code",
      "execution_count": null,
      "metadata": {
        "colab": {
          "background_save": true
        },
        "id": "o-wrnlm5gCBa",
        "outputId": "b87bc080-df49-4c86-daaf-4641b318bc7f"
      },
      "outputs": [
        {
          "data": {
            "image/png": "[encoded data removed]",
            "text/plain": [
              "<Figure size 432x288 with 2 Axes>"
            ]
          },
          "metadata": {},
          "output_type": "display_data"
        }
      ],
      "source": [
        "plt.rcParams[\"axes.grid\"] = False\n",
        "plt.rcParams[\"font.size\"]= 14\n",
        "plt.title(\"Confusion Matrix\", fontsize= 15)\n",
        "plot(sent_test,naiveTfidf_predictions)\n",
        "plt.show()"
      ]
    }
  ],
  "metadata": {
    "colab": {
      "name": "FYP2Model_ml.ipynb",
      "provenance": []
    },
    "kernelspec": {
      "display_name": "Python 3",
      "name": "python3"
    },
    "language_info": {
      "name": "python"
    }
  },
  "nbformat": 4,
  "nbformat_minor": 0
}